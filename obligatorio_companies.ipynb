{
 "cells": [
  {
   "cell_type": "markdown",
   "metadata": {},
   "source": [
    "# OBLIGATORIO BIG DATA"
   ]
  },
  {
   "cell_type": "markdown",
   "metadata": {},
   "source": [
    "## Sistema de análisis de información de compañías bajo Big data"
   ]
  },
  {
   "cell_type": "code",
   "execution_count": 2,
   "metadata": {},
   "outputs": [],
   "source": [
    "from pyspark.sql import SparkSession\n",
    "spark = SparkSession.builder.appName(\"companies_analysis\").getOrCreate()"
   ]
  },
  {
   "cell_type": "code",
   "execution_count": 3,
   "metadata": {},
   "outputs": [],
   "source": [
    "from pyspark.sql.types import  (StructType, \n",
    "                                StructField, \n",
    "                                DateType, \n",
    "                                BooleanType,\n",
    "                                DoubleType,\n",
    "                                IntegerType,\n",
    "                                StringType,\n",
    "                               TimestampType)\n",
    "from pyspark.sql.functions import col"
   ]
  },
  {
   "cell_type": "markdown",
   "metadata": {},
   "source": [
    "Creamos el dataframe de compañías"
   ]
  },
  {
   "cell_type": "code",
   "execution_count": 5,
   "metadata": {},
   "outputs": [],
   "source": [
    "companies = spark.read.csv(\"companies_sorted.csv\", header = True) "
   ]
  },
  {
   "cell_type": "markdown",
   "metadata": {},
   "source": [
    "Vemos cuántos registros tiene"
   ]
  },
  {
   "cell_type": "code",
   "execution_count": 6,
   "metadata": {},
   "outputs": [
    {
     "name": "stdout",
     "output_type": "stream",
     "text": [
      " The companies dataframe has 7173438 records\n"
     ]
    }
   ],
   "source": [
    "print(\" The companies dataframe has {} records\".format(companies.count()))"
   ]
  },
  {
   "cell_type": "markdown",
   "metadata": {},
   "source": [
    "Vemos las columnas"
   ]
  },
  {
   "cell_type": "code",
   "execution_count": 7,
   "metadata": {},
   "outputs": [
    {
     "data": {
      "text/plain": [
       "['_c0',\n",
       " 'name',\n",
       " 'domain',\n",
       " 'year founded',\n",
       " 'industry',\n",
       " 'size range',\n",
       " 'locality',\n",
       " 'country',\n",
       " 'linkedin url',\n",
       " 'current employee estimate',\n",
       " 'total employee estimate']"
      ]
     },
     "execution_count": 7,
     "metadata": {},
     "output_type": "execute_result"
    }
   ],
   "source": [
    "companies.columns"
   ]
  },
  {
   "cell_type": "code",
   "execution_count": 8,
   "metadata": {},
   "outputs": [],
   "source": [
    "# Hacer casteo de datos si es necesario"
   ]
  },
  {
   "cell_type": "code",
   "execution_count": 9,
   "metadata": {},
   "outputs": [
    {
     "name": "stdout",
     "output_type": "stream",
     "text": [
      "+-------+--------------------+------------------+------------+--------------------+----------+--------------------+--------------+--------------------+-------------------------+-----------------------+\n",
      "|    _c0|                name|            domain|year founded|            industry|size range|            locality|       country|        linkedin url|current employee estimate|total employee estimate|\n",
      "+-------+--------------------+------------------+------------+--------------------+----------+--------------------+--------------+--------------------+-------------------------+-----------------------+\n",
      "|5872184|                 ibm|           ibm.com|      1911.0|information techn...|    10001+|new york, new yor...| united states|linkedin.com/comp...|                   274047|                 716906|\n",
      "|4425416|tata consultancy ...|           tcs.com|      1968.0|information techn...|    10001+|bombay, maharasht...|         india|linkedin.com/comp...|                   190771|                 341369|\n",
      "|  21074|           accenture|     accenture.com|      1989.0|information techn...|    10001+|dublin, dublin, i...|       ireland|linkedin.com/comp...|                   190689|                 455768|\n",
      "|2309813|             us army|        goarmy.com|      1800.0|            military|    10001+|alexandria, virgi...| united states|linkedin.com/comp...|                   162163|                 445958|\n",
      "|1558607|                  ey|            ey.com|      1989.0|          accounting|    10001+|london, greater l...|united kingdom|linkedin.com/comp...|                   158363|                 428960|\n",
      "|3844889|     hewlett-packard|           hpe.com|      1939.0|information techn...|    10001+|palo alto, califo...| united states|linkedin.com/comp...|                   127952|                 412952|\n",
      "|2959148|cognizant technol...|     cognizant.com|      1994.0|information techn...|    10001+|teaneck, new jers...| united states|linkedin.com/comp...|                   122031|                 210020|\n",
      "|5944912|             walmart|walmartcareers.com|      1962.0|              retail|    10001+|withee, wisconsin...| united states|linkedin.com/comp...|                   120753|                 272827|\n",
      "|3727010|           microsoft|     microsoft.com|      1975.0|   computer software|    10001+|redmond, washingt...| united states|linkedin.com/comp...|                   116196|                 276983|\n",
      "|3300741|                at&t|           att.com|      1876.0|  telecommunications|    10001+|dallas, texas, un...| united states|linkedin.com/comp...|                   115188|                 269659|\n",
      "+-------+--------------------+------------------+------------+--------------------+----------+--------------------+--------------+--------------------+-------------------------+-----------------------+\n",
      "only showing top 10 rows\n",
      "\n"
     ]
    }
   ],
   "source": [
    "companies.select(\"*\").show(10)"
   ]
  },
  {
   "cell_type": "code",
   "execution_count": 10,
   "metadata": {},
   "outputs": [
    {
     "name": "stdout",
     "output_type": "stream",
     "text": [
      "+-----------------------------------+\n",
      "|industry                           |\n",
      "+-----------------------------------+\n",
      "|information technology and services|\n",
      "|information technology and services|\n",
      "|information technology and services|\n",
      "|military                           |\n",
      "|accounting                         |\n",
      "|information technology and services|\n",
      "|information technology and services|\n",
      "|retail                             |\n",
      "|computer software                  |\n",
      "|telecommunications                 |\n",
      "+-----------------------------------+\n",
      "only showing top 10 rows\n",
      "\n"
     ]
    }
   ],
   "source": [
    "companies.select(\"industry\").show(10, truncate = False)"
   ]
  },
  {
   "cell_type": "code",
   "execution_count": null,
   "metadata": {},
   "outputs": [],
   "source": []
  }
 ],
 "metadata": {
  "kernelspec": {
   "display_name": "Python 3",
   "language": "python",
   "name": "python3"
  },
  "language_info": {
   "codemirror_mode": {
    "name": "ipython",
    "version": 3
   },
   "file_extension": ".py",
   "mimetype": "text/x-python",
   "name": "python",
   "nbconvert_exporter": "python",
   "pygments_lexer": "ipython3",
   "version": "3.7.3"
  }
 },
 "nbformat": 4,
 "nbformat_minor": 2
}
