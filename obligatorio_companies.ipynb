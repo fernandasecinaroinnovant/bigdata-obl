{
 "cells": [
  {
   "cell_type": "markdown",
   "metadata": {},
   "source": [
    "# OBLIGATORIO BIG DATA"
   ]
  },
  {
   "cell_type": "markdown",
   "metadata": {},
   "source": [
    "## Sistema de análisis de información de compañías bajo Big data"
   ]
  },
  {
   "cell_type": "code",
   "execution_count": 1,
   "metadata": {},
   "outputs": [],
   "source": [
    "from pyspark.sql import SparkSession\n",
    "spark = SparkSession.builder.appName(\"companies_analysis\").getOrCreate()"
   ]
  },
  {
   "cell_type": "code",
   "execution_count": 2,
   "metadata": {},
   "outputs": [],
   "source": [
    "from pyspark.sql.types import  (StructType, \n",
    "                                StructField, \n",
    "                                DateType, \n",
    "                                BooleanType,\n",
    "                                DoubleType,\n",
    "                                IntegerType,\n",
    "                                StringType,\n",
    "                               TimestampType)\n",
    "from pyspark.sql.functions import col, max, min"
   ]
  },
  {
   "cell_type": "code",
   "execution_count": 3,
   "metadata": {},
   "outputs": [],
   "source": [
    "import seaborn as sns \n",
    "import pandas as pd \n",
    "import numpy as np\n",
    "import matplotlib.pyplot as plt\n",
    "import warnings"
   ]
  },
  {
   "cell_type": "markdown",
   "metadata": {},
   "source": [
    "Creamos el dataframe de compañías"
   ]
  },
  {
   "cell_type": "code",
   "execution_count": 4,
   "metadata": {},
   "outputs": [],
   "source": [
    "companies = spark.read.csv(\"companies_sorted.csv\", header = True) "
   ]
  },
  {
   "cell_type": "markdown",
   "metadata": {},
   "source": [
    "Vemos cuántos registros tiene"
   ]
  },
  {
   "cell_type": "code",
   "execution_count": 5,
   "metadata": {},
   "outputs": [
    {
     "name": "stdout",
     "output_type": "stream",
     "text": [
      " The companies dataframe has 7173419 records\n"
     ]
    }
   ],
   "source": [
    "print(\" The companies dataframe has {} records\".format(companies.count()))"
   ]
  },
  {
   "cell_type": "markdown",
   "metadata": {},
   "source": [
    "Vemos las columnas"
   ]
  },
  {
   "cell_type": "code",
   "execution_count": 6,
   "metadata": {},
   "outputs": [
    {
     "data": {
      "text/plain": [
       "['id',\n",
       " 'name',\n",
       " 'domain',\n",
       " 'year founded',\n",
       " 'industry',\n",
       " 'size range',\n",
       " 'locality',\n",
       " 'country',\n",
       " 'linkedin url',\n",
       " 'current employee estimate',\n",
       " 'total employee estimate']"
      ]
     },
     "execution_count": 6,
     "metadata": {},
     "output_type": "execute_result"
    }
   ],
   "source": [
    "companies.columns"
   ]
  },
  {
   "cell_type": "code",
   "execution_count": 7,
   "metadata": {},
   "outputs": [],
   "source": [
    "# Casteo de datos"
   ]
  },
  {
   "cell_type": "code",
   "execution_count": 8,
   "metadata": {},
   "outputs": [
    {
     "data": {
      "text/plain": [
       "[('id', 'string'),\n",
       " ('name', 'string'),\n",
       " ('domain', 'string'),\n",
       " ('year founded', 'string'),\n",
       " ('industry', 'string'),\n",
       " ('size range', 'string'),\n",
       " ('locality', 'string'),\n",
       " ('country', 'string'),\n",
       " ('linkedin url', 'string'),\n",
       " ('current employee estimate', 'string'),\n",
       " ('total employee estimate', 'string')]"
      ]
     },
     "execution_count": 8,
     "metadata": {},
     "output_type": "execute_result"
    }
   ],
   "source": [
    "companies.dtypes"
   ]
  },
  {
   "cell_type": "code",
   "execution_count": 9,
   "metadata": {},
   "outputs": [],
   "source": [
    "companies = companies.withColumn('id', (companies.id).cast('Integer'))\\\n",
    "                     .withColumn(\"year founded\", (col(\"year founded\").cast('Integer')))\\\n",
    "                     .withColumn(\"current employee estimate\", (col(\"current employee estimate\").cast('Integer')))\\\n",
    "                     .withColumn(\"total employee estimate\", (col(\"total employee estimate\").cast('Integer')))\\\n"
   ]
  },
  {
   "cell_type": "code",
   "execution_count": 10,
   "metadata": {},
   "outputs": [
    {
     "data": {
      "text/plain": [
       "[('id', 'int'),\n",
       " ('name', 'string'),\n",
       " ('domain', 'string'),\n",
       " ('year founded', 'int'),\n",
       " ('industry', 'string'),\n",
       " ('size range', 'string'),\n",
       " ('locality', 'string'),\n",
       " ('country', 'string'),\n",
       " ('linkedin url', 'string'),\n",
       " ('current employee estimate', 'int'),\n",
       " ('total employee estimate', 'int')]"
      ]
     },
     "execution_count": 10,
     "metadata": {},
     "output_type": "execute_result"
    }
   ],
   "source": [
    "companies.dtypes"
   ]
  },
  {
   "cell_type": "code",
   "execution_count": 11,
   "metadata": {},
   "outputs": [
    {
     "name": "stdout",
     "output_type": "stream",
     "text": [
      "+----------+\n",
      "|size range|\n",
      "+----------+\n",
      "|10001+    |\n",
      "|10001+    |\n",
      "|10001+    |\n",
      "|10001+    |\n",
      "|10001+    |\n",
      "|10001+    |\n",
      "|10001+    |\n",
      "|10001+    |\n",
      "|10001+    |\n",
      "|10001+    |\n",
      "+----------+\n",
      "only showing top 10 rows\n",
      "\n"
     ]
    }
   ],
   "source": [
    "companies.select(\"size range\").show(10, truncate = False)"
   ]
  },
  {
   "cell_type": "code",
   "execution_count": 12,
   "metadata": {
    "scrolled": true
   },
   "outputs": [
    {
     "name": "stdout",
     "output_type": "stream",
     "text": [
      "root\n",
      " |-- id: integer (nullable = true)\n",
      " |-- name: string (nullable = true)\n",
      " |-- domain: string (nullable = true)\n",
      " |-- year founded: integer (nullable = true)\n",
      " |-- industry: string (nullable = true)\n",
      " |-- size range: string (nullable = true)\n",
      " |-- locality: string (nullable = true)\n",
      " |-- country: string (nullable = true)\n",
      " |-- linkedin url: string (nullable = true)\n",
      " |-- current employee estimate: integer (nullable = true)\n",
      " |-- total employee estimate: integer (nullable = true)\n",
      "\n"
     ]
    }
   ],
   "source": [
    "companies.printSchema() #comprobamos los cambios"
   ]
  },
  {
   "cell_type": "markdown",
   "metadata": {},
   "source": [
    "## Ingeniería de atributos"
   ]
  },
  {
   "cell_type": "code",
   "execution_count": 13,
   "metadata": {},
   "outputs": [],
   "source": [
    "companies_limited = companies.limit(1000000)\n",
    "companies_pandas = companies_limited.toPandas() #Creamos este dataframe pandas para mejor visualización de datos"
   ]
  },
  {
   "cell_type": "code",
   "execution_count": 14,
   "metadata": {},
   "outputs": [
    {
     "data": {
      "text/html": [
       "<div>\n",
       "<style scoped>\n",
       "    .dataframe tbody tr th:only-of-type {\n",
       "        vertical-align: middle;\n",
       "    }\n",
       "\n",
       "    .dataframe tbody tr th {\n",
       "        vertical-align: top;\n",
       "    }\n",
       "\n",
       "    .dataframe thead th {\n",
       "        text-align: right;\n",
       "    }\n",
       "</style>\n",
       "<table border=\"1\" class=\"dataframe\">\n",
       "  <thead>\n",
       "    <tr style=\"text-align: right;\">\n",
       "      <th></th>\n",
       "      <th>id</th>\n",
       "      <th>name</th>\n",
       "      <th>domain</th>\n",
       "      <th>year founded</th>\n",
       "      <th>industry</th>\n",
       "      <th>size range</th>\n",
       "      <th>locality</th>\n",
       "      <th>country</th>\n",
       "      <th>linkedin url</th>\n",
       "      <th>current employee estimate</th>\n",
       "      <th>total employee estimate</th>\n",
       "    </tr>\n",
       "  </thead>\n",
       "  <tbody>\n",
       "    <tr>\n",
       "      <th>0</th>\n",
       "      <td>5872184</td>\n",
       "      <td>ibm</td>\n",
       "      <td>ibm.com</td>\n",
       "      <td>1911.0</td>\n",
       "      <td>information technology and services</td>\n",
       "      <td>10001+</td>\n",
       "      <td>new york, new york, united states</td>\n",
       "      <td>united states</td>\n",
       "      <td>linkedin.com/company/ibm</td>\n",
       "      <td>274047</td>\n",
       "      <td>716906</td>\n",
       "    </tr>\n",
       "    <tr>\n",
       "      <th>1</th>\n",
       "      <td>4425416</td>\n",
       "      <td>tata consultancy services</td>\n",
       "      <td>tcs.com</td>\n",
       "      <td>1968.0</td>\n",
       "      <td>information technology and services</td>\n",
       "      <td>10001+</td>\n",
       "      <td>bombay, maharashtra, india</td>\n",
       "      <td>india</td>\n",
       "      <td>linkedin.com/company/tata-consultancy-services</td>\n",
       "      <td>190771</td>\n",
       "      <td>341369</td>\n",
       "    </tr>\n",
       "    <tr>\n",
       "      <th>2</th>\n",
       "      <td>21074</td>\n",
       "      <td>accenture</td>\n",
       "      <td>accenture.com</td>\n",
       "      <td>1989.0</td>\n",
       "      <td>information technology and services</td>\n",
       "      <td>10001+</td>\n",
       "      <td>dublin, dublin, ireland</td>\n",
       "      <td>ireland</td>\n",
       "      <td>linkedin.com/company/accenture</td>\n",
       "      <td>190689</td>\n",
       "      <td>455768</td>\n",
       "    </tr>\n",
       "    <tr>\n",
       "      <th>3</th>\n",
       "      <td>2309813</td>\n",
       "      <td>us army</td>\n",
       "      <td>goarmy.com</td>\n",
       "      <td>1800.0</td>\n",
       "      <td>military</td>\n",
       "      <td>10001+</td>\n",
       "      <td>alexandria, virginia, united states</td>\n",
       "      <td>united states</td>\n",
       "      <td>linkedin.com/company/us-army</td>\n",
       "      <td>162163</td>\n",
       "      <td>445958</td>\n",
       "    </tr>\n",
       "    <tr>\n",
       "      <th>4</th>\n",
       "      <td>1558607</td>\n",
       "      <td>ey</td>\n",
       "      <td>ey.com</td>\n",
       "      <td>1989.0</td>\n",
       "      <td>accounting</td>\n",
       "      <td>10001+</td>\n",
       "      <td>london, greater london, united kingdom</td>\n",
       "      <td>united kingdom</td>\n",
       "      <td>linkedin.com/company/ernstandyoung</td>\n",
       "      <td>158363</td>\n",
       "      <td>428960</td>\n",
       "    </tr>\n",
       "    <tr>\n",
       "      <th>5</th>\n",
       "      <td>3844889</td>\n",
       "      <td>hewlett-packard</td>\n",
       "      <td>hpe.com</td>\n",
       "      <td>1939.0</td>\n",
       "      <td>information technology and services</td>\n",
       "      <td>10001+</td>\n",
       "      <td>palo alto, california, united states</td>\n",
       "      <td>united states</td>\n",
       "      <td>linkedin.com/company/hewlett-packard-enterprise</td>\n",
       "      <td>127952</td>\n",
       "      <td>412952</td>\n",
       "    </tr>\n",
       "    <tr>\n",
       "      <th>6</th>\n",
       "      <td>2959148</td>\n",
       "      <td>cognizant technology solutions</td>\n",
       "      <td>cognizant.com</td>\n",
       "      <td>1994.0</td>\n",
       "      <td>information technology and services</td>\n",
       "      <td>10001+</td>\n",
       "      <td>teaneck, new jersey, united states</td>\n",
       "      <td>united states</td>\n",
       "      <td>linkedin.com/company/cognizant</td>\n",
       "      <td>122031</td>\n",
       "      <td>210020</td>\n",
       "    </tr>\n",
       "    <tr>\n",
       "      <th>7</th>\n",
       "      <td>5944912</td>\n",
       "      <td>walmart</td>\n",
       "      <td>walmartcareers.com</td>\n",
       "      <td>1962.0</td>\n",
       "      <td>retail</td>\n",
       "      <td>10001+</td>\n",
       "      <td>withee, wisconsin, united states</td>\n",
       "      <td>united states</td>\n",
       "      <td>linkedin.com/company/walmart</td>\n",
       "      <td>120753</td>\n",
       "      <td>272827</td>\n",
       "    </tr>\n",
       "    <tr>\n",
       "      <th>8</th>\n",
       "      <td>3727010</td>\n",
       "      <td>microsoft</td>\n",
       "      <td>microsoft.com</td>\n",
       "      <td>1975.0</td>\n",
       "      <td>computer software</td>\n",
       "      <td>10001+</td>\n",
       "      <td>redmond, washington, united states</td>\n",
       "      <td>united states</td>\n",
       "      <td>linkedin.com/company/microsoft</td>\n",
       "      <td>116196</td>\n",
       "      <td>276983</td>\n",
       "    </tr>\n",
       "    <tr>\n",
       "      <th>9</th>\n",
       "      <td>3300741</td>\n",
       "      <td>at&amp;t</td>\n",
       "      <td>att.com</td>\n",
       "      <td>1876.0</td>\n",
       "      <td>telecommunications</td>\n",
       "      <td>10001+</td>\n",
       "      <td>dallas, texas, united states</td>\n",
       "      <td>united states</td>\n",
       "      <td>linkedin.com/company/at&amp;t</td>\n",
       "      <td>115188</td>\n",
       "      <td>269659</td>\n",
       "    </tr>\n",
       "    <tr>\n",
       "      <th>10</th>\n",
       "      <td>5412257</td>\n",
       "      <td>united states air force</td>\n",
       "      <td>airforce.com</td>\n",
       "      <td>1947.0</td>\n",
       "      <td>defense &amp; space</td>\n",
       "      <td>10001+</td>\n",
       "      <td>randolph, texas, united states</td>\n",
       "      <td>united states</td>\n",
       "      <td>linkedin.com/company/united-states-air-force</td>\n",
       "      <td>113997</td>\n",
       "      <td>316549</td>\n",
       "    </tr>\n",
       "    <tr>\n",
       "      <th>11</th>\n",
       "      <td>2780814</td>\n",
       "      <td>pwc</td>\n",
       "      <td>pwc.com</td>\n",
       "      <td>1998.0</td>\n",
       "      <td>accounting</td>\n",
       "      <td>10001+</td>\n",
       "      <td>new york, new york, united states</td>\n",
       "      <td>united states</td>\n",
       "      <td>linkedin.com/company/pwc</td>\n",
       "      <td>111372</td>\n",
       "      <td>379447</td>\n",
       "    </tr>\n",
       "    <tr>\n",
       "      <th>12</th>\n",
       "      <td>3972223</td>\n",
       "      <td>wells fargo</td>\n",
       "      <td>wellsfargo.com</td>\n",
       "      <td>NaN</td>\n",
       "      <td>financial services</td>\n",
       "      <td>10001+</td>\n",
       "      <td>san francisco, california, united states</td>\n",
       "      <td>united states</td>\n",
       "      <td>linkedin.com/company/wellsfargo</td>\n",
       "      <td>109532</td>\n",
       "      <td>264101</td>\n",
       "    </tr>\n",
       "    <tr>\n",
       "      <th>13</th>\n",
       "      <td>1454663</td>\n",
       "      <td>infosys</td>\n",
       "      <td>infosys.com</td>\n",
       "      <td>1981.0</td>\n",
       "      <td>information technology and services</td>\n",
       "      <td>10001+</td>\n",
       "      <td>bangalore, karnataka, india</td>\n",
       "      <td>india</td>\n",
       "      <td>linkedin.com/company/infosys</td>\n",
       "      <td>104752</td>\n",
       "      <td>215718</td>\n",
       "    </tr>\n",
       "    <tr>\n",
       "      <th>14</th>\n",
       "      <td>3221953</td>\n",
       "      <td>deloitte</td>\n",
       "      <td>deloitte.com</td>\n",
       "      <td>1900.0</td>\n",
       "      <td>management consulting</td>\n",
       "      <td>10001+</td>\n",
       "      <td>new york, new york, united states</td>\n",
       "      <td>united states</td>\n",
       "      <td>linkedin.com/company/deloitte</td>\n",
       "      <td>104112</td>\n",
       "      <td>329145</td>\n",
       "    </tr>\n",
       "    <tr>\n",
       "      <th>15</th>\n",
       "      <td>2994580</td>\n",
       "      <td>citi</td>\n",
       "      <td>citigroup.com</td>\n",
       "      <td>1812.0</td>\n",
       "      <td>financial services</td>\n",
       "      <td>10001+</td>\n",
       "      <td>new york, new york, united states</td>\n",
       "      <td>united states</td>\n",
       "      <td>linkedin.com/company/citi</td>\n",
       "      <td>101482</td>\n",
       "      <td>298171</td>\n",
       "    </tr>\n",
       "    <tr>\n",
       "      <th>16</th>\n",
       "      <td>5372097</td>\n",
       "      <td>bank of america</td>\n",
       "      <td>bankofamerica.com</td>\n",
       "      <td>1968.0</td>\n",
       "      <td>banking</td>\n",
       "      <td>10001+</td>\n",
       "      <td>charlotte, north carolina, united states</td>\n",
       "      <td>united states</td>\n",
       "      <td>linkedin.com/company/bank-of-america</td>\n",
       "      <td>97357</td>\n",
       "      <td>279769</td>\n",
       "    </tr>\n",
       "    <tr>\n",
       "      <th>17</th>\n",
       "      <td>1170519</td>\n",
       "      <td>jpmorgan chase &amp; co.</td>\n",
       "      <td>jpmorganchase.com</td>\n",
       "      <td>1823.0</td>\n",
       "      <td>financial services</td>\n",
       "      <td>10001+</td>\n",
       "      <td>new york, new york, united states</td>\n",
       "      <td>united states</td>\n",
       "      <td>linkedin.com/company/jpmorgan-chase</td>\n",
       "      <td>95234</td>\n",
       "      <td>242135</td>\n",
       "    </tr>\n",
       "    <tr>\n",
       "      <th>18</th>\n",
       "      <td>4000842</td>\n",
       "      <td>us navy</td>\n",
       "      <td>navy.com</td>\n",
       "      <td>NaN</td>\n",
       "      <td>military</td>\n",
       "      <td>10001+</td>\n",
       "      <td>washington, district of columbia, united states</td>\n",
       "      <td>united states</td>\n",
       "      <td>linkedin.com/company/us-navy</td>\n",
       "      <td>94458</td>\n",
       "      <td>325740</td>\n",
       "    </tr>\n",
       "    <tr>\n",
       "      <th>19</th>\n",
       "      <td>4306268</td>\n",
       "      <td>amazon</td>\n",
       "      <td>amazon.com</td>\n",
       "      <td>1994.0</td>\n",
       "      <td>internet</td>\n",
       "      <td>10001+</td>\n",
       "      <td>seattle, washington, united states</td>\n",
       "      <td>united states</td>\n",
       "      <td>linkedin.com/company/amazon</td>\n",
       "      <td>93247</td>\n",
       "      <td>161866</td>\n",
       "    </tr>\n",
       "    <tr>\n",
       "      <th>20</th>\n",
       "      <td>5735407</td>\n",
       "      <td>apple</td>\n",
       "      <td>apple.com</td>\n",
       "      <td>1976.0</td>\n",
       "      <td>consumer electronics</td>\n",
       "      <td>10001+</td>\n",
       "      <td>cupertino, california, united states</td>\n",
       "      <td>united states</td>\n",
       "      <td>linkedin.com/company/apple</td>\n",
       "      <td>90095</td>\n",
       "      <td>179531</td>\n",
       "    </tr>\n",
       "    <tr>\n",
       "      <th>21</th>\n",
       "      <td>2441266</td>\n",
       "      <td>siemens</td>\n",
       "      <td>siemens.com</td>\n",
       "      <td>1847.0</td>\n",
       "      <td>electrical/electronic manufacturing</td>\n",
       "      <td>10001+</td>\n",
       "      <td>munich, bavaria, germany</td>\n",
       "      <td>germany</td>\n",
       "      <td>linkedin.com/company/siemens</td>\n",
       "      <td>87381</td>\n",
       "      <td>240528</td>\n",
       "    </tr>\n",
       "    <tr>\n",
       "      <th>22</th>\n",
       "      <td>229577</td>\n",
       "      <td>oracle</td>\n",
       "      <td>oracle.com</td>\n",
       "      <td>1977.0</td>\n",
       "      <td>information technology and services</td>\n",
       "      <td>10001+</td>\n",
       "      <td>redwood shores, california, united states</td>\n",
       "      <td>united states</td>\n",
       "      <td>linkedin.com/company/oracle</td>\n",
       "      <td>85090</td>\n",
       "      <td>206211</td>\n",
       "    </tr>\n",
       "    <tr>\n",
       "      <th>23</th>\n",
       "      <td>1685535</td>\n",
       "      <td>nokia</td>\n",
       "      <td>nokia.com</td>\n",
       "      <td>1865.0</td>\n",
       "      <td>telecommunications</td>\n",
       "      <td>10001+</td>\n",
       "      <td>espoo, uusimaa, finland</td>\n",
       "      <td>finland</td>\n",
       "      <td>linkedin.com/company/nokia</td>\n",
       "      <td>84327</td>\n",
       "      <td>251795</td>\n",
       "    </tr>\n",
       "    <tr>\n",
       "      <th>24</th>\n",
       "      <td>4604890</td>\n",
       "      <td>education nationale</td>\n",
       "      <td>education.gouv.fr</td>\n",
       "      <td>NaN</td>\n",
       "      <td>public policy</td>\n",
       "      <td>10001+</td>\n",
       "      <td>paris, île-de-france, france</td>\n",
       "      <td>france</td>\n",
       "      <td>linkedin.com/company/education-nationale</td>\n",
       "      <td>84218</td>\n",
       "      <td>101083</td>\n",
       "    </tr>\n",
       "    <tr>\n",
       "      <th>25</th>\n",
       "      <td>6021320</td>\n",
       "      <td>capgemini</td>\n",
       "      <td>capgemini.com</td>\n",
       "      <td>1967.0</td>\n",
       "      <td>information technology and services</td>\n",
       "      <td>10001+</td>\n",
       "      <td>france, aquitaine, france</td>\n",
       "      <td>france</td>\n",
       "      <td>linkedin.com/company/capgemini</td>\n",
       "      <td>84179</td>\n",
       "      <td>203525</td>\n",
       "    </tr>\n",
       "    <tr>\n",
       "      <th>26</th>\n",
       "      <td>1373987</td>\n",
       "      <td>wipro technologies</td>\n",
       "      <td>wipro.com</td>\n",
       "      <td>1945.0</td>\n",
       "      <td>information technology and services</td>\n",
       "      <td>10001+</td>\n",
       "      <td>bangalore, karnataka, india</td>\n",
       "      <td>india</td>\n",
       "      <td>linkedin.com/company/wipro</td>\n",
       "      <td>78261</td>\n",
       "      <td>177368</td>\n",
       "    </tr>\n",
       "    <tr>\n",
       "      <th>27</th>\n",
       "      <td>4968033</td>\n",
       "      <td>hsbc</td>\n",
       "      <td>hsbc.com</td>\n",
       "      <td>1865.0</td>\n",
       "      <td>financial services</td>\n",
       "      <td>10001+</td>\n",
       "      <td>london, greater london, united kingdom</td>\n",
       "      <td>united kingdom</td>\n",
       "      <td>linkedin.com/company/hsbc</td>\n",
       "      <td>75640</td>\n",
       "      <td>225649</td>\n",
       "    </tr>\n",
       "    <tr>\n",
       "      <th>28</th>\n",
       "      <td>1001070</td>\n",
       "      <td>google</td>\n",
       "      <td>google.com</td>\n",
       "      <td>1998.0</td>\n",
       "      <td>internet</td>\n",
       "      <td>10001+</td>\n",
       "      <td>mountain view, california, united states</td>\n",
       "      <td>united states</td>\n",
       "      <td>linkedin.com/company/google</td>\n",
       "      <td>75109</td>\n",
       "      <td>131349</td>\n",
       "    </tr>\n",
       "    <tr>\n",
       "      <th>29</th>\n",
       "      <td>4186125</td>\n",
       "      <td>united states postal service</td>\n",
       "      <td>usps.com</td>\n",
       "      <td>NaN</td>\n",
       "      <td>government administration</td>\n",
       "      <td>10001+</td>\n",
       "      <td>washington, district of columbia, united states</td>\n",
       "      <td>united states</td>\n",
       "      <td>linkedin.com/company/usps</td>\n",
       "      <td>74357</td>\n",
       "      <td>104159</td>\n",
       "    </tr>\n",
       "    <tr>\n",
       "      <th>...</th>\n",
       "      <td>...</td>\n",
       "      <td>...</td>\n",
       "      <td>...</td>\n",
       "      <td>...</td>\n",
       "      <td>...</td>\n",
       "      <td>...</td>\n",
       "      <td>...</td>\n",
       "      <td>...</td>\n",
       "      <td>...</td>\n",
       "      <td>...</td>\n",
       "      <td>...</td>\n",
       "    </tr>\n",
       "    <tr>\n",
       "      <th>999970</th>\n",
       "      <td>6562478</td>\n",
       "      <td>ottmann global partners gmbh</td>\n",
       "      <td>ottmann-gp.com</td>\n",
       "      <td>1990.0</td>\n",
       "      <td>management consulting</td>\n",
       "      <td>11 - 50</td>\n",
       "      <td>None</td>\n",
       "      <td>None</td>\n",
       "      <td>linkedin.com/company/ottmann-global-partners-gmbh</td>\n",
       "      <td>8</td>\n",
       "      <td>10</td>\n",
       "    </tr>\n",
       "    <tr>\n",
       "      <th>999971</th>\n",
       "      <td>4962415</td>\n",
       "      <td>holiday store dmcc</td>\n",
       "      <td>holidaystore.travel</td>\n",
       "      <td>2014.0</td>\n",
       "      <td>leisure, travel &amp; tourism</td>\n",
       "      <td>11 - 50</td>\n",
       "      <td>dubai, dubai, united arab emirates</td>\n",
       "      <td>united arab emirates</td>\n",
       "      <td>linkedin.com/company/holiday-store-dmcc</td>\n",
       "      <td>8</td>\n",
       "      <td>11</td>\n",
       "    </tr>\n",
       "    <tr>\n",
       "      <th>999972</th>\n",
       "      <td>6100349</td>\n",
       "      <td>pirates press</td>\n",
       "      <td>piratespress.com</td>\n",
       "      <td>NaN</td>\n",
       "      <td>music</td>\n",
       "      <td>11 - 50</td>\n",
       "      <td>san francisco, california, united states</td>\n",
       "      <td>united states</td>\n",
       "      <td>linkedin.com/company/pirates-press</td>\n",
       "      <td>8</td>\n",
       "      <td>14</td>\n",
       "    </tr>\n",
       "    <tr>\n",
       "      <th>999973</th>\n",
       "      <td>2835801</td>\n",
       "      <td>johnny b good</td>\n",
       "      <td>None</td>\n",
       "      <td>NaN</td>\n",
       "      <td>government administration</td>\n",
       "      <td>11 - 50</td>\n",
       "      <td>sterlington, louisiana, united states</td>\n",
       "      <td>united states</td>\n",
       "      <td>linkedin.com/company/johnny-b-good</td>\n",
       "      <td>8</td>\n",
       "      <td>20</td>\n",
       "    </tr>\n",
       "    <tr>\n",
       "      <th>999974</th>\n",
       "      <td>853926</td>\n",
       "      <td>dispenser beverages, inc.</td>\n",
       "      <td>dispenserbeverages.com</td>\n",
       "      <td>1957.0</td>\n",
       "      <td>food &amp; beverages</td>\n",
       "      <td>11 - 50</td>\n",
       "      <td>san leandro, california, united states</td>\n",
       "      <td>united states</td>\n",
       "      <td>linkedin.com/company/dispenser-beverages-inc-</td>\n",
       "      <td>8</td>\n",
       "      <td>22</td>\n",
       "    </tr>\n",
       "    <tr>\n",
       "      <th>999975</th>\n",
       "      <td>1165129</td>\n",
       "      <td>eesc-usp formula sae</td>\n",
       "      <td>None</td>\n",
       "      <td>2003.0</td>\n",
       "      <td>mechanical or industrial engineering</td>\n",
       "      <td>11 - 50</td>\n",
       "      <td>None</td>\n",
       "      <td>None</td>\n",
       "      <td>linkedin.com/company/eesc-usp-formula-sae</td>\n",
       "      <td>8</td>\n",
       "      <td>72</td>\n",
       "    </tr>\n",
       "    <tr>\n",
       "      <th>999976</th>\n",
       "      <td>3309406</td>\n",
       "      <td>c.p.p. printing &amp; direct mail marketing</td>\n",
       "      <td>None</td>\n",
       "      <td>NaN</td>\n",
       "      <td>printing</td>\n",
       "      <td>11 - 50</td>\n",
       "      <td>None</td>\n",
       "      <td>None</td>\n",
       "      <td>linkedin.com/company/c.p.p.-printing-&amp;-direct-...</td>\n",
       "      <td>8</td>\n",
       "      <td>9</td>\n",
       "    </tr>\n",
       "    <tr>\n",
       "      <th>999977</th>\n",
       "      <td>963150</td>\n",
       "      <td>steuerring deutschland e.v.</td>\n",
       "      <td>steuerring.com</td>\n",
       "      <td>NaN</td>\n",
       "      <td>information technology and services</td>\n",
       "      <td>11 - 50</td>\n",
       "      <td>None</td>\n",
       "      <td>None</td>\n",
       "      <td>linkedin.com/company/steuerring-deutschland-e-v-</td>\n",
       "      <td>8</td>\n",
       "      <td>9</td>\n",
       "    </tr>\n",
       "    <tr>\n",
       "      <th>999978</th>\n",
       "      <td>2835792</td>\n",
       "      <td>canyon lands insurance</td>\n",
       "      <td>canyonlandsinsurance.com</td>\n",
       "      <td>2001.0</td>\n",
       "      <td>insurance</td>\n",
       "      <td>11 - 50</td>\n",
       "      <td>mesa, arizona, united states</td>\n",
       "      <td>united states</td>\n",
       "      <td>linkedin.com/company/canyon-lands-insurance</td>\n",
       "      <td>8</td>\n",
       "      <td>15</td>\n",
       "    </tr>\n",
       "    <tr>\n",
       "      <th>999979</th>\n",
       "      <td>7067425</td>\n",
       "      <td>h.art development center</td>\n",
       "      <td>hart.rs</td>\n",
       "      <td>2006.0</td>\n",
       "      <td>human resources</td>\n",
       "      <td>11 - 50</td>\n",
       "      <td>belgrade, central serbia, serbia</td>\n",
       "      <td>serbia</td>\n",
       "      <td>linkedin.com/company/h.art-development-center</td>\n",
       "      <td>8</td>\n",
       "      <td>47</td>\n",
       "    </tr>\n",
       "    <tr>\n",
       "      <th>999980</th>\n",
       "      <td>4578428</td>\n",
       "      <td>acid-solutions</td>\n",
       "      <td>acid.fr</td>\n",
       "      <td>2006.0</td>\n",
       "      <td>internet</td>\n",
       "      <td>11 - 50</td>\n",
       "      <td>nantes, pays de la loire, france</td>\n",
       "      <td>benin</td>\n",
       "      <td>linkedin.com/company/acidsolutions</td>\n",
       "      <td>8</td>\n",
       "      <td>17</td>\n",
       "    </tr>\n",
       "    <tr>\n",
       "      <th>999981</th>\n",
       "      <td>3789995</td>\n",
       "      <td>benu magyarország zrt.</td>\n",
       "      <td>benu.hu</td>\n",
       "      <td>1999.0</td>\n",
       "      <td>pharmaceuticals</td>\n",
       "      <td>11 - 50</td>\n",
       "      <td>None</td>\n",
       "      <td>None</td>\n",
       "      <td>linkedin.com/company/benu-magyarország-zrt-</td>\n",
       "      <td>8</td>\n",
       "      <td>13</td>\n",
       "    </tr>\n",
       "    <tr>\n",
       "      <th>999982</th>\n",
       "      <td>3045419</td>\n",
       "      <td>retzos group</td>\n",
       "      <td>roundout.co</td>\n",
       "      <td>NaN</td>\n",
       "      <td>human resources</td>\n",
       "      <td>11 - 50</td>\n",
       "      <td>None</td>\n",
       "      <td>None</td>\n",
       "      <td>linkedin.com/company/retzos-group</td>\n",
       "      <td>8</td>\n",
       "      <td>25</td>\n",
       "    </tr>\n",
       "    <tr>\n",
       "      <th>999983</th>\n",
       "      <td>1764277</td>\n",
       "      <td>de pleats - fergees horeca</td>\n",
       "      <td>depleats.nl</td>\n",
       "      <td>1997.0</td>\n",
       "      <td>hospitality</td>\n",
       "      <td>11 - 50</td>\n",
       "      <td>burgum, friesland, netherlands</td>\n",
       "      <td>netherlands</td>\n",
       "      <td>linkedin.com/company/de-pleats---fergees-horeca</td>\n",
       "      <td>8</td>\n",
       "      <td>31</td>\n",
       "    </tr>\n",
       "    <tr>\n",
       "      <th>999984</th>\n",
       "      <td>5815019</td>\n",
       "      <td>lurot brand</td>\n",
       "      <td>lurotbrand.co.uk</td>\n",
       "      <td>1971.0</td>\n",
       "      <td>real estate</td>\n",
       "      <td>11 - 50</td>\n",
       "      <td>london, greater london, united kingdom</td>\n",
       "      <td>united kingdom</td>\n",
       "      <td>linkedin.com/company/lurot-brand</td>\n",
       "      <td>8</td>\n",
       "      <td>30</td>\n",
       "    </tr>\n",
       "    <tr>\n",
       "      <th>999985</th>\n",
       "      <td>153424</td>\n",
       "      <td>kudo studio audio production</td>\n",
       "      <td>kudo-studio.com</td>\n",
       "      <td>2014.0</td>\n",
       "      <td>music</td>\n",
       "      <td>11 - 50</td>\n",
       "      <td>groningen, groningen, netherlands</td>\n",
       "      <td>netherlands</td>\n",
       "      <td>linkedin.com/company/kudo-studio-audio-production</td>\n",
       "      <td>8</td>\n",
       "      <td>8</td>\n",
       "    </tr>\n",
       "    <tr>\n",
       "      <th>999986</th>\n",
       "      <td>440566</td>\n",
       "      <td>get boost</td>\n",
       "      <td>getboost.cz</td>\n",
       "      <td>2014.0</td>\n",
       "      <td>marketing and advertising</td>\n",
       "      <td>11 - 50</td>\n",
       "      <td>prague, praha, czechia</td>\n",
       "      <td>czechia</td>\n",
       "      <td>linkedin.com/company/game-boost-s-r-o-</td>\n",
       "      <td>8</td>\n",
       "      <td>10</td>\n",
       "    </tr>\n",
       "    <tr>\n",
       "      <th>999987</th>\n",
       "      <td>2554317</td>\n",
       "      <td>strategiya - soluções em comércio exterior e ti</td>\n",
       "      <td>strategiya.com.br</td>\n",
       "      <td>2004.0</td>\n",
       "      <td>information technology and services</td>\n",
       "      <td>11 - 50</td>\n",
       "      <td>rio de janeiro, rio de janeiro, brazil</td>\n",
       "      <td>brazil</td>\n",
       "      <td>linkedin.com/company/strategiya---soluções-em-...</td>\n",
       "      <td>8</td>\n",
       "      <td>10</td>\n",
       "    </tr>\n",
       "    <tr>\n",
       "      <th>999988</th>\n",
       "      <td>1764273</td>\n",
       "      <td>somosur s.l</td>\n",
       "      <td>somosur.com</td>\n",
       "      <td>2005.0</td>\n",
       "      <td>telecommunications</td>\n",
       "      <td>11 - 50</td>\n",
       "      <td>aguadulce, andalusia, spain</td>\n",
       "      <td>spain</td>\n",
       "      <td>linkedin.com/company/somosur-s-l</td>\n",
       "      <td>8</td>\n",
       "      <td>34</td>\n",
       "    </tr>\n",
       "    <tr>\n",
       "      <th>999989</th>\n",
       "      <td>92205</td>\n",
       "      <td>los altos community foundation</td>\n",
       "      <td>losaltoscf.org</td>\n",
       "      <td>1991.0</td>\n",
       "      <td>non-profit organization management</td>\n",
       "      <td>11 - 50</td>\n",
       "      <td>los altos, california, united states</td>\n",
       "      <td>united states</td>\n",
       "      <td>linkedin.com/company/los-altos-community-found...</td>\n",
       "      <td>8</td>\n",
       "      <td>15</td>\n",
       "    </tr>\n",
       "    <tr>\n",
       "      <th>999990</th>\n",
       "      <td>2146053</td>\n",
       "      <td>one africa media</td>\n",
       "      <td>None</td>\n",
       "      <td>2012.0</td>\n",
       "      <td>internet</td>\n",
       "      <td>11 - 50</td>\n",
       "      <td>cape town, western cape, south africa</td>\n",
       "      <td>south africa</td>\n",
       "      <td>linkedin.com/company/one-africa-media</td>\n",
       "      <td>8</td>\n",
       "      <td>38</td>\n",
       "    </tr>\n",
       "    <tr>\n",
       "      <th>999991</th>\n",
       "      <td>3350141</td>\n",
       "      <td>mastercell tim</td>\n",
       "      <td>mastercelltim.com.br</td>\n",
       "      <td>NaN</td>\n",
       "      <td>telecommunications</td>\n",
       "      <td>11 - 50</td>\n",
       "      <td>ituporanga, santa catarina, brazil</td>\n",
       "      <td>brazil</td>\n",
       "      <td>linkedin.com/company/mastercell-tim</td>\n",
       "      <td>8</td>\n",
       "      <td>16</td>\n",
       "    </tr>\n",
       "    <tr>\n",
       "      <th>999992</th>\n",
       "      <td>1262074</td>\n",
       "      <td>century 21 concept 100</td>\n",
       "      <td>concept100.com</td>\n",
       "      <td>1977.0</td>\n",
       "      <td>real estate</td>\n",
       "      <td>11 - 50</td>\n",
       "      <td>dumont, new jersey, united states</td>\n",
       "      <td>united states</td>\n",
       "      <td>linkedin.com/company/century-21-concept-100</td>\n",
       "      <td>8</td>\n",
       "      <td>10</td>\n",
       "    </tr>\n",
       "    <tr>\n",
       "      <th>999993</th>\n",
       "      <td>1503071</td>\n",
       "      <td>hargrove, smelley, strickland, and langley</td>\n",
       "      <td>hssl-law.com</td>\n",
       "      <td>NaN</td>\n",
       "      <td>law practice</td>\n",
       "      <td>11 - 50</td>\n",
       "      <td>None</td>\n",
       "      <td>None</td>\n",
       "      <td>linkedin.com/company/hargrove-smelley-strickla...</td>\n",
       "      <td>8</td>\n",
       "      <td>26</td>\n",
       "    </tr>\n",
       "    <tr>\n",
       "      <th>999994</th>\n",
       "      <td>4578424</td>\n",
       "      <td>saxon textile research institute</td>\n",
       "      <td>stfi.de</td>\n",
       "      <td>1992.0</td>\n",
       "      <td>research</td>\n",
       "      <td>11 - 50</td>\n",
       "      <td>chemnitz, saxony, germany</td>\n",
       "      <td>germany</td>\n",
       "      <td>linkedin.com/company/saxon-textile-research-in...</td>\n",
       "      <td>8</td>\n",
       "      <td>9</td>\n",
       "    </tr>\n",
       "    <tr>\n",
       "      <th>999995</th>\n",
       "      <td>5089757</td>\n",
       "      <td>secan aerospace</td>\n",
       "      <td>None</td>\n",
       "      <td>NaN</td>\n",
       "      <td>aviation &amp; aerospace</td>\n",
       "      <td>11 - 50</td>\n",
       "      <td>None</td>\n",
       "      <td>None</td>\n",
       "      <td>linkedin.com/company/linkedin.comsecanaerospace</td>\n",
       "      <td>8</td>\n",
       "      <td>14</td>\n",
       "    </tr>\n",
       "    <tr>\n",
       "      <th>999996</th>\n",
       "      <td>4370234</td>\n",
       "      <td>the jacques company</td>\n",
       "      <td>jerrykalman.com</td>\n",
       "      <td>NaN</td>\n",
       "      <td>real estate</td>\n",
       "      <td>11 - 50</td>\n",
       "      <td>None</td>\n",
       "      <td>None</td>\n",
       "      <td>linkedin.com/company/the-jacques-company</td>\n",
       "      <td>8</td>\n",
       "      <td>10</td>\n",
       "    </tr>\n",
       "    <tr>\n",
       "      <th>999997</th>\n",
       "      <td>3350136</td>\n",
       "      <td>enigma - adventure tour operator / travel coll...</td>\n",
       "      <td>enigmaperu.com</td>\n",
       "      <td>2002.0</td>\n",
       "      <td>leisure, travel &amp; tourism</td>\n",
       "      <td>11 - 50</td>\n",
       "      <td>cusco, cusco, peru</td>\n",
       "      <td>peru</td>\n",
       "      <td>linkedin.com/company/enigma-adventure-tour-ope...</td>\n",
       "      <td>8</td>\n",
       "      <td>12</td>\n",
       "    </tr>\n",
       "    <tr>\n",
       "      <th>999998</th>\n",
       "      <td>440585</td>\n",
       "      <td>furuno cyprus ltd</td>\n",
       "      <td>furuno.com.cy</td>\n",
       "      <td>2012.0</td>\n",
       "      <td>maritime</td>\n",
       "      <td>11 - 50</td>\n",
       "      <td>None</td>\n",
       "      <td>cyprus</td>\n",
       "      <td>linkedin.com/company/furuno-cyprus-ltd</td>\n",
       "      <td>8</td>\n",
       "      <td>9</td>\n",
       "    </tr>\n",
       "    <tr>\n",
       "      <th>999999</th>\n",
       "      <td>5341998</td>\n",
       "      <td>amasya üniversitesi</td>\n",
       "      <td>None</td>\n",
       "      <td>NaN</td>\n",
       "      <td>higher education</td>\n",
       "      <td>11 - 50</td>\n",
       "      <td>None</td>\n",
       "      <td>None</td>\n",
       "      <td>linkedin.com/company/amasya-üniversitesi</td>\n",
       "      <td>8</td>\n",
       "      <td>11</td>\n",
       "    </tr>\n",
       "  </tbody>\n",
       "</table>\n",
       "<p>1000000 rows × 11 columns</p>\n",
       "</div>"
      ],
      "text/plain": [
       "             id                                               name  \\\n",
       "0       5872184                                                ibm   \n",
       "1       4425416                          tata consultancy services   \n",
       "2         21074                                          accenture   \n",
       "3       2309813                                            us army   \n",
       "4       1558607                                                 ey   \n",
       "5       3844889                                    hewlett-packard   \n",
       "6       2959148                     cognizant technology solutions   \n",
       "7       5944912                                            walmart   \n",
       "8       3727010                                          microsoft   \n",
       "9       3300741                                               at&t   \n",
       "10      5412257                            united states air force   \n",
       "11      2780814                                                pwc   \n",
       "12      3972223                                        wells fargo   \n",
       "13      1454663                                            infosys   \n",
       "14      3221953                                           deloitte   \n",
       "15      2994580                                               citi   \n",
       "16      5372097                                    bank of america   \n",
       "17      1170519                               jpmorgan chase & co.   \n",
       "18      4000842                                            us navy   \n",
       "19      4306268                                             amazon   \n",
       "20      5735407                                              apple   \n",
       "21      2441266                                            siemens   \n",
       "22       229577                                             oracle   \n",
       "23      1685535                                              nokia   \n",
       "24      4604890                                education nationale   \n",
       "25      6021320                                          capgemini   \n",
       "26      1373987                                 wipro technologies   \n",
       "27      4968033                                               hsbc   \n",
       "28      1001070                                             google   \n",
       "29      4186125                       united states postal service   \n",
       "...         ...                                                ...   \n",
       "999970  6562478                       ottmann global partners gmbh   \n",
       "999971  4962415                                 holiday store dmcc   \n",
       "999972  6100349                                      pirates press   \n",
       "999973  2835801                                      johnny b good   \n",
       "999974   853926                          dispenser beverages, inc.   \n",
       "999975  1165129                               eesc-usp formula sae   \n",
       "999976  3309406            c.p.p. printing & direct mail marketing   \n",
       "999977   963150                        steuerring deutschland e.v.   \n",
       "999978  2835792                             canyon lands insurance   \n",
       "999979  7067425                           h.art development center   \n",
       "999980  4578428                                     acid-solutions   \n",
       "999981  3789995                             benu magyarország zrt.   \n",
       "999982  3045419                                       retzos group   \n",
       "999983  1764277                         de pleats - fergees horeca   \n",
       "999984  5815019                                        lurot brand   \n",
       "999985   153424                       kudo studio audio production   \n",
       "999986   440566                                          get boost   \n",
       "999987  2554317    strategiya - soluções em comércio exterior e ti   \n",
       "999988  1764273                                        somosur s.l   \n",
       "999989    92205                     los altos community foundation   \n",
       "999990  2146053                                   one africa media   \n",
       "999991  3350141                                     mastercell tim   \n",
       "999992  1262074                             century 21 concept 100   \n",
       "999993  1503071         hargrove, smelley, strickland, and langley   \n",
       "999994  4578424                   saxon textile research institute   \n",
       "999995  5089757                                    secan aerospace   \n",
       "999996  4370234                                the jacques company   \n",
       "999997  3350136  enigma - adventure tour operator / travel coll...   \n",
       "999998   440585                                  furuno cyprus ltd   \n",
       "999999  5341998                               amasya üniversitesi   \n",
       "\n",
       "                          domain  year founded  \\\n",
       "0                        ibm.com        1911.0   \n",
       "1                        tcs.com        1968.0   \n",
       "2                  accenture.com        1989.0   \n",
       "3                     goarmy.com        1800.0   \n",
       "4                         ey.com        1989.0   \n",
       "5                        hpe.com        1939.0   \n",
       "6                  cognizant.com        1994.0   \n",
       "7             walmartcareers.com        1962.0   \n",
       "8                  microsoft.com        1975.0   \n",
       "9                        att.com        1876.0   \n",
       "10                  airforce.com        1947.0   \n",
       "11                       pwc.com        1998.0   \n",
       "12                wellsfargo.com           NaN   \n",
       "13                   infosys.com        1981.0   \n",
       "14                  deloitte.com        1900.0   \n",
       "15                 citigroup.com        1812.0   \n",
       "16             bankofamerica.com        1968.0   \n",
       "17             jpmorganchase.com        1823.0   \n",
       "18                      navy.com           NaN   \n",
       "19                    amazon.com        1994.0   \n",
       "20                     apple.com        1976.0   \n",
       "21                   siemens.com        1847.0   \n",
       "22                    oracle.com        1977.0   \n",
       "23                     nokia.com        1865.0   \n",
       "24             education.gouv.fr           NaN   \n",
       "25                 capgemini.com        1967.0   \n",
       "26                     wipro.com        1945.0   \n",
       "27                      hsbc.com        1865.0   \n",
       "28                    google.com        1998.0   \n",
       "29                      usps.com           NaN   \n",
       "...                          ...           ...   \n",
       "999970            ottmann-gp.com        1990.0   \n",
       "999971       holidaystore.travel        2014.0   \n",
       "999972          piratespress.com           NaN   \n",
       "999973                      None           NaN   \n",
       "999974    dispenserbeverages.com        1957.0   \n",
       "999975                      None        2003.0   \n",
       "999976                      None           NaN   \n",
       "999977            steuerring.com           NaN   \n",
       "999978  canyonlandsinsurance.com        2001.0   \n",
       "999979                   hart.rs        2006.0   \n",
       "999980                   acid.fr        2006.0   \n",
       "999981                   benu.hu        1999.0   \n",
       "999982               roundout.co           NaN   \n",
       "999983               depleats.nl        1997.0   \n",
       "999984          lurotbrand.co.uk        1971.0   \n",
       "999985           kudo-studio.com        2014.0   \n",
       "999986               getboost.cz        2014.0   \n",
       "999987         strategiya.com.br        2004.0   \n",
       "999988               somosur.com        2005.0   \n",
       "999989            losaltoscf.org        1991.0   \n",
       "999990                      None        2012.0   \n",
       "999991      mastercelltim.com.br           NaN   \n",
       "999992            concept100.com        1977.0   \n",
       "999993              hssl-law.com           NaN   \n",
       "999994                   stfi.de        1992.0   \n",
       "999995                      None           NaN   \n",
       "999996           jerrykalman.com           NaN   \n",
       "999997            enigmaperu.com        2002.0   \n",
       "999998             furuno.com.cy        2012.0   \n",
       "999999                      None           NaN   \n",
       "\n",
       "                                    industry size range  \\\n",
       "0        information technology and services     10001+   \n",
       "1        information technology and services     10001+   \n",
       "2        information technology and services     10001+   \n",
       "3                                   military     10001+   \n",
       "4                                 accounting     10001+   \n",
       "5        information technology and services     10001+   \n",
       "6        information technology and services     10001+   \n",
       "7                                     retail     10001+   \n",
       "8                          computer software     10001+   \n",
       "9                         telecommunications     10001+   \n",
       "10                           defense & space     10001+   \n",
       "11                                accounting     10001+   \n",
       "12                        financial services     10001+   \n",
       "13       information technology and services     10001+   \n",
       "14                     management consulting     10001+   \n",
       "15                        financial services     10001+   \n",
       "16                                   banking     10001+   \n",
       "17                        financial services     10001+   \n",
       "18                                  military     10001+   \n",
       "19                                  internet     10001+   \n",
       "20                      consumer electronics     10001+   \n",
       "21       electrical/electronic manufacturing     10001+   \n",
       "22       information technology and services     10001+   \n",
       "23                        telecommunications     10001+   \n",
       "24                             public policy     10001+   \n",
       "25       information technology and services     10001+   \n",
       "26       information technology and services     10001+   \n",
       "27                        financial services     10001+   \n",
       "28                                  internet     10001+   \n",
       "29                 government administration     10001+   \n",
       "...                                      ...        ...   \n",
       "999970                 management consulting    11 - 50   \n",
       "999971             leisure, travel & tourism    11 - 50   \n",
       "999972                                 music    11 - 50   \n",
       "999973             government administration    11 - 50   \n",
       "999974                      food & beverages    11 - 50   \n",
       "999975  mechanical or industrial engineering    11 - 50   \n",
       "999976                              printing    11 - 50   \n",
       "999977   information technology and services    11 - 50   \n",
       "999978                             insurance    11 - 50   \n",
       "999979                       human resources    11 - 50   \n",
       "999980                              internet    11 - 50   \n",
       "999981                       pharmaceuticals    11 - 50   \n",
       "999982                       human resources    11 - 50   \n",
       "999983                           hospitality    11 - 50   \n",
       "999984                           real estate    11 - 50   \n",
       "999985                                 music    11 - 50   \n",
       "999986             marketing and advertising    11 - 50   \n",
       "999987   information technology and services    11 - 50   \n",
       "999988                    telecommunications    11 - 50   \n",
       "999989    non-profit organization management    11 - 50   \n",
       "999990                              internet    11 - 50   \n",
       "999991                    telecommunications    11 - 50   \n",
       "999992                           real estate    11 - 50   \n",
       "999993                          law practice    11 - 50   \n",
       "999994                              research    11 - 50   \n",
       "999995                  aviation & aerospace    11 - 50   \n",
       "999996                           real estate    11 - 50   \n",
       "999997             leisure, travel & tourism    11 - 50   \n",
       "999998                              maritime    11 - 50   \n",
       "999999                      higher education    11 - 50   \n",
       "\n",
       "                                               locality               country  \\\n",
       "0                     new york, new york, united states         united states   \n",
       "1                            bombay, maharashtra, india                 india   \n",
       "2                               dublin, dublin, ireland               ireland   \n",
       "3                   alexandria, virginia, united states         united states   \n",
       "4                london, greater london, united kingdom        united kingdom   \n",
       "5                  palo alto, california, united states         united states   \n",
       "6                    teaneck, new jersey, united states         united states   \n",
       "7                      withee, wisconsin, united states         united states   \n",
       "8                    redmond, washington, united states         united states   \n",
       "9                          dallas, texas, united states         united states   \n",
       "10                       randolph, texas, united states         united states   \n",
       "11                    new york, new york, united states         united states   \n",
       "12             san francisco, california, united states         united states   \n",
       "13                          bangalore, karnataka, india                 india   \n",
       "14                    new york, new york, united states         united states   \n",
       "15                    new york, new york, united states         united states   \n",
       "16             charlotte, north carolina, united states         united states   \n",
       "17                    new york, new york, united states         united states   \n",
       "18      washington, district of columbia, united states         united states   \n",
       "19                   seattle, washington, united states         united states   \n",
       "20                 cupertino, california, united states         united states   \n",
       "21                             munich, bavaria, germany               germany   \n",
       "22            redwood shores, california, united states         united states   \n",
       "23                              espoo, uusimaa, finland               finland   \n",
       "24                         paris, île-de-france, france                france   \n",
       "25                            france, aquitaine, france                france   \n",
       "26                          bangalore, karnataka, india                 india   \n",
       "27               london, greater london, united kingdom        united kingdom   \n",
       "28             mountain view, california, united states         united states   \n",
       "29      washington, district of columbia, united states         united states   \n",
       "...                                                 ...                   ...   \n",
       "999970                                             None                  None   \n",
       "999971               dubai, dubai, united arab emirates  united arab emirates   \n",
       "999972         san francisco, california, united states         united states   \n",
       "999973            sterlington, louisiana, united states         united states   \n",
       "999974           san leandro, california, united states         united states   \n",
       "999975                                             None                  None   \n",
       "999976                                             None                  None   \n",
       "999977                                             None                  None   \n",
       "999978                     mesa, arizona, united states         united states   \n",
       "999979                 belgrade, central serbia, serbia                serbia   \n",
       "999980                 nantes, pays de la loire, france                 benin   \n",
       "999981                                             None                  None   \n",
       "999982                                             None                  None   \n",
       "999983                   burgum, friesland, netherlands           netherlands   \n",
       "999984           london, greater london, united kingdom        united kingdom   \n",
       "999985                groningen, groningen, netherlands           netherlands   \n",
       "999986                           prague, praha, czechia               czechia   \n",
       "999987           rio de janeiro, rio de janeiro, brazil                brazil   \n",
       "999988                      aguadulce, andalusia, spain                 spain   \n",
       "999989             los altos, california, united states         united states   \n",
       "999990            cape town, western cape, south africa          south africa   \n",
       "999991               ituporanga, santa catarina, brazil                brazil   \n",
       "999992                dumont, new jersey, united states         united states   \n",
       "999993                                             None                  None   \n",
       "999994                        chemnitz, saxony, germany               germany   \n",
       "999995                                             None                  None   \n",
       "999996                                             None                  None   \n",
       "999997                               cusco, cusco, peru                  peru   \n",
       "999998                                             None                cyprus   \n",
       "999999                                             None                  None   \n",
       "\n",
       "                                             linkedin url  \\\n",
       "0                                linkedin.com/company/ibm   \n",
       "1          linkedin.com/company/tata-consultancy-services   \n",
       "2                          linkedin.com/company/accenture   \n",
       "3                            linkedin.com/company/us-army   \n",
       "4                      linkedin.com/company/ernstandyoung   \n",
       "5         linkedin.com/company/hewlett-packard-enterprise   \n",
       "6                          linkedin.com/company/cognizant   \n",
       "7                            linkedin.com/company/walmart   \n",
       "8                          linkedin.com/company/microsoft   \n",
       "9                               linkedin.com/company/at&t   \n",
       "10           linkedin.com/company/united-states-air-force   \n",
       "11                               linkedin.com/company/pwc   \n",
       "12                        linkedin.com/company/wellsfargo   \n",
       "13                           linkedin.com/company/infosys   \n",
       "14                          linkedin.com/company/deloitte   \n",
       "15                              linkedin.com/company/citi   \n",
       "16                   linkedin.com/company/bank-of-america   \n",
       "17                    linkedin.com/company/jpmorgan-chase   \n",
       "18                           linkedin.com/company/us-navy   \n",
       "19                            linkedin.com/company/amazon   \n",
       "20                             linkedin.com/company/apple   \n",
       "21                           linkedin.com/company/siemens   \n",
       "22                            linkedin.com/company/oracle   \n",
       "23                             linkedin.com/company/nokia   \n",
       "24               linkedin.com/company/education-nationale   \n",
       "25                         linkedin.com/company/capgemini   \n",
       "26                             linkedin.com/company/wipro   \n",
       "27                              linkedin.com/company/hsbc   \n",
       "28                            linkedin.com/company/google   \n",
       "29                              linkedin.com/company/usps   \n",
       "...                                                   ...   \n",
       "999970  linkedin.com/company/ottmann-global-partners-gmbh   \n",
       "999971            linkedin.com/company/holiday-store-dmcc   \n",
       "999972                 linkedin.com/company/pirates-press   \n",
       "999973                 linkedin.com/company/johnny-b-good   \n",
       "999974      linkedin.com/company/dispenser-beverages-inc-   \n",
       "999975          linkedin.com/company/eesc-usp-formula-sae   \n",
       "999976  linkedin.com/company/c.p.p.-printing-&-direct-...   \n",
       "999977   linkedin.com/company/steuerring-deutschland-e-v-   \n",
       "999978        linkedin.com/company/canyon-lands-insurance   \n",
       "999979      linkedin.com/company/h.art-development-center   \n",
       "999980                 linkedin.com/company/acidsolutions   \n",
       "999981        linkedin.com/company/benu-magyarország-zrt-   \n",
       "999982                  linkedin.com/company/retzos-group   \n",
       "999983    linkedin.com/company/de-pleats---fergees-horeca   \n",
       "999984                   linkedin.com/company/lurot-brand   \n",
       "999985  linkedin.com/company/kudo-studio-audio-production   \n",
       "999986             linkedin.com/company/game-boost-s-r-o-   \n",
       "999987  linkedin.com/company/strategiya---soluções-em-...   \n",
       "999988                   linkedin.com/company/somosur-s-l   \n",
       "999989  linkedin.com/company/los-altos-community-found...   \n",
       "999990              linkedin.com/company/one-africa-media   \n",
       "999991                linkedin.com/company/mastercell-tim   \n",
       "999992        linkedin.com/company/century-21-concept-100   \n",
       "999993  linkedin.com/company/hargrove-smelley-strickla...   \n",
       "999994  linkedin.com/company/saxon-textile-research-in...   \n",
       "999995    linkedin.com/company/linkedin.comsecanaerospace   \n",
       "999996           linkedin.com/company/the-jacques-company   \n",
       "999997  linkedin.com/company/enigma-adventure-tour-ope...   \n",
       "999998             linkedin.com/company/furuno-cyprus-ltd   \n",
       "999999          linkedin.com/company/amasya-üniversitesi   \n",
       "\n",
       "        current employee estimate  total employee estimate  \n",
       "0                          274047                   716906  \n",
       "1                          190771                   341369  \n",
       "2                          190689                   455768  \n",
       "3                          162163                   445958  \n",
       "4                          158363                   428960  \n",
       "5                          127952                   412952  \n",
       "6                          122031                   210020  \n",
       "7                          120753                   272827  \n",
       "8                          116196                   276983  \n",
       "9                          115188                   269659  \n",
       "10                         113997                   316549  \n",
       "11                         111372                   379447  \n",
       "12                         109532                   264101  \n",
       "13                         104752                   215718  \n",
       "14                         104112                   329145  \n",
       "15                         101482                   298171  \n",
       "16                          97357                   279769  \n",
       "17                          95234                   242135  \n",
       "18                          94458                   325740  \n",
       "19                          93247                   161866  \n",
       "20                          90095                   179531  \n",
       "21                          87381                   240528  \n",
       "22                          85090                   206211  \n",
       "23                          84327                   251795  \n",
       "24                          84218                   101083  \n",
       "25                          84179                   203525  \n",
       "26                          78261                   177368  \n",
       "27                          75640                   225649  \n",
       "28                          75109                   131349  \n",
       "29                          74357                   104159  \n",
       "...                           ...                      ...  \n",
       "999970                          8                       10  \n",
       "999971                          8                       11  \n",
       "999972                          8                       14  \n",
       "999973                          8                       20  \n",
       "999974                          8                       22  \n",
       "999975                          8                       72  \n",
       "999976                          8                        9  \n",
       "999977                          8                        9  \n",
       "999978                          8                       15  \n",
       "999979                          8                       47  \n",
       "999980                          8                       17  \n",
       "999981                          8                       13  \n",
       "999982                          8                       25  \n",
       "999983                          8                       31  \n",
       "999984                          8                       30  \n",
       "999985                          8                        8  \n",
       "999986                          8                       10  \n",
       "999987                          8                       10  \n",
       "999988                          8                       34  \n",
       "999989                          8                       15  \n",
       "999990                          8                       38  \n",
       "999991                          8                       16  \n",
       "999992                          8                       10  \n",
       "999993                          8                       26  \n",
       "999994                          8                        9  \n",
       "999995                          8                       14  \n",
       "999996                          8                       10  \n",
       "999997                          8                       12  \n",
       "999998                          8                        9  \n",
       "999999                          8                       11  \n",
       "\n",
       "[1000000 rows x 11 columns]"
      ]
     },
     "execution_count": 14,
     "metadata": {},
     "output_type": "execute_result"
    }
   ],
   "source": [
    "companies_pandas"
   ]
  },
  {
   "cell_type": "code",
   "execution_count": 15,
   "metadata": {},
   "outputs": [
    {
     "data": {
      "text/html": [
       "<div>\n",
       "<style scoped>\n",
       "    .dataframe tbody tr th:only-of-type {\n",
       "        vertical-align: middle;\n",
       "    }\n",
       "\n",
       "    .dataframe tbody tr th {\n",
       "        vertical-align: top;\n",
       "    }\n",
       "\n",
       "    .dataframe thead th {\n",
       "        text-align: right;\n",
       "    }\n",
       "</style>\n",
       "<table border=\"1\" class=\"dataframe\">\n",
       "  <thead>\n",
       "    <tr style=\"text-align: right;\">\n",
       "      <th></th>\n",
       "      <th>id</th>\n",
       "      <th>year founded</th>\n",
       "      <th>current employee estimate</th>\n",
       "      <th>total employee estimate</th>\n",
       "    </tr>\n",
       "  </thead>\n",
       "  <tbody>\n",
       "    <tr>\n",
       "      <th>count</th>\n",
       "      <td>1.000000e+06</td>\n",
       "      <td>669313.000000</td>\n",
       "      <td>1000000.000000</td>\n",
       "      <td>1000000.000000</td>\n",
       "    </tr>\n",
       "    <tr>\n",
       "      <th>mean</th>\n",
       "      <td>3.582905e+06</td>\n",
       "      <td>1988.361762</td>\n",
       "      <td>89.463195</td>\n",
       "      <td>207.210511</td>\n",
       "    </tr>\n",
       "    <tr>\n",
       "      <th>std</th>\n",
       "      <td>2.072636e+06</td>\n",
       "      <td>30.351703</td>\n",
       "      <td>946.201613</td>\n",
       "      <td>2333.596528</td>\n",
       "    </tr>\n",
       "    <tr>\n",
       "      <th>min</th>\n",
       "      <td>1.600000e+01</td>\n",
       "      <td>1451.000000</td>\n",
       "      <td>8.000000</td>\n",
       "      <td>8.000000</td>\n",
       "    </tr>\n",
       "    <tr>\n",
       "      <th>25%</th>\n",
       "      <td>1.785064e+06</td>\n",
       "      <td>1982.000000</td>\n",
       "      <td>11.000000</td>\n",
       "      <td>22.000000</td>\n",
       "    </tr>\n",
       "    <tr>\n",
       "      <th>50%</th>\n",
       "      <td>3.580350e+06</td>\n",
       "      <td>1998.000000</td>\n",
       "      <td>18.000000</td>\n",
       "      <td>41.000000</td>\n",
       "    </tr>\n",
       "    <tr>\n",
       "      <th>75%</th>\n",
       "      <td>5.379693e+06</td>\n",
       "      <td>2008.000000</td>\n",
       "      <td>41.000000</td>\n",
       "      <td>97.000000</td>\n",
       "    </tr>\n",
       "    <tr>\n",
       "      <th>max</th>\n",
       "      <td>7.173415e+06</td>\n",
       "      <td>2029.000000</td>\n",
       "      <td>274047.000000</td>\n",
       "      <td>716906.000000</td>\n",
       "    </tr>\n",
       "  </tbody>\n",
       "</table>\n",
       "</div>"
      ],
      "text/plain": [
       "                 id   year founded  current employee estimate  \\\n",
       "count  1.000000e+06  669313.000000             1000000.000000   \n",
       "mean   3.582905e+06    1988.361762                  89.463195   \n",
       "std    2.072636e+06      30.351703                 946.201613   \n",
       "min    1.600000e+01    1451.000000                   8.000000   \n",
       "25%    1.785064e+06    1982.000000                  11.000000   \n",
       "50%    3.580350e+06    1998.000000                  18.000000   \n",
       "75%    5.379693e+06    2008.000000                  41.000000   \n",
       "max    7.173415e+06    2029.000000              274047.000000   \n",
       "\n",
       "       total employee estimate  \n",
       "count           1000000.000000  \n",
       "mean                207.210511  \n",
       "std                2333.596528  \n",
       "min                   8.000000  \n",
       "25%                  22.000000  \n",
       "50%                  41.000000  \n",
       "75%                  97.000000  \n",
       "max              716906.000000  "
      ]
     },
     "execution_count": 15,
     "metadata": {},
     "output_type": "execute_result"
    }
   ],
   "source": [
    "companies_pandas.describe() #vemos la descripción estadística de los datos numéricos"
   ]
  },
  {
   "cell_type": "code",
   "execution_count": 16,
   "metadata": {},
   "outputs": [
    {
     "data": {
      "text/plain": [
       "<matplotlib.axes._subplots.AxesSubplot at 0x7fcb969f9a58>"
      ]
     },
     "execution_count": 16,
     "metadata": {},
     "output_type": "execute_result"
    },
    {
     "data": {
      "image/png": "[encoded data removed]",
      "text/plain": [
       "<Figure size 432x288 with 2 Axes>"
      ]
     },
     "metadata": {
      "needs_background": "light"
     },
     "output_type": "display_data"
    }
   ],
   "source": [
    "#hacemos un mapa de calor para ver las correlaciones entre los atributos que tenemos\n",
    "corr = companies_pandas.corr() \n",
    "sns.heatmap(corr, \n",
    "      xticklabels=corr.columns.values, \n",
    "      yticklabels=corr.columns.values) "
   ]
  },
  {
   "cell_type": "code",
   "execution_count": 17,
   "metadata": {},
   "outputs": [
    {
     "data": {
      "text/html": [
       "<style  type=\"text/css\" >\n",
       "    #T_213dde40_dd70_11ec_9d2b_ee1d69391bd8 th {\n",
       "          font-size: 7pt;\n",
       "    }    #T_213dde40_dd70_11ec_9d2b_ee1d69391bd8 td {\n",
       "          padding: 0em 0em;\n",
       "    }    #T_213dde40_dd70_11ec_9d2b_ee1d69391bd8 th:hover {\n",
       "          font-size: 12pt;\n",
       "    }    #T_213dde40_dd70_11ec_9d2b_ee1d69391bd8 tr:hover td:hover {\n",
       "          max-width: 200px;\n",
       "          font-size: 12pt;\n",
       "    }    #T_213dde40_dd70_11ec_9d2b_ee1d69391bd8row0_col0 {\n",
       "            background-color:  #4479bb;\n",
       "            color:  #000000;\n",
       "            max-width:  80px;\n",
       "            font-size:  10pt;\n",
       "        }    #T_213dde40_dd70_11ec_9d2b_ee1d69391bd8row0_col1 {\n",
       "            background-color:  #d73c5b;\n",
       "            color:  #f1f1f1;\n",
       "            max-width:  80px;\n",
       "            font-size:  10pt;\n",
       "        }    #T_213dde40_dd70_11ec_9d2b_ee1d69391bd8row0_col2 {\n",
       "            background-color:  #d73c5b;\n",
       "            color:  #f1f1f1;\n",
       "            max-width:  80px;\n",
       "            font-size:  10pt;\n",
       "        }    #T_213dde40_dd70_11ec_9d2b_ee1d69391bd8row0_col3 {\n",
       "            background-color:  #d73c5b;\n",
       "            color:  #f1f1f1;\n",
       "            max-width:  80px;\n",
       "            font-size:  10pt;\n",
       "        }    #T_213dde40_dd70_11ec_9d2b_ee1d69391bd8row1_col0 {\n",
       "            background-color:  #dd5671;\n",
       "            color:  #000000;\n",
       "            max-width:  80px;\n",
       "            font-size:  10pt;\n",
       "        }    #T_213dde40_dd70_11ec_9d2b_ee1d69391bd8row1_col1 {\n",
       "            background-color:  #4479bb;\n",
       "            color:  #000000;\n",
       "            max-width:  80px;\n",
       "            font-size:  10pt;\n",
       "        }    #T_213dde40_dd70_11ec_9d2b_ee1d69391bd8row1_col2 {\n",
       "            background-color:  #d73c5b;\n",
       "            color:  #f1f1f1;\n",
       "            max-width:  80px;\n",
       "            font-size:  10pt;\n",
       "        }    #T_213dde40_dd70_11ec_9d2b_ee1d69391bd8row1_col3 {\n",
       "            background-color:  #d73c5b;\n",
       "            color:  #f1f1f1;\n",
       "            max-width:  80px;\n",
       "            font-size:  10pt;\n",
       "        }    #T_213dde40_dd70_11ec_9d2b_ee1d69391bd8row2_col0 {\n",
       "            background-color:  #dd5671;\n",
       "            color:  #000000;\n",
       "            max-width:  80px;\n",
       "            font-size:  10pt;\n",
       "        }    #T_213dde40_dd70_11ec_9d2b_ee1d69391bd8row2_col1 {\n",
       "            background-color:  #d73c5b;\n",
       "            color:  #f1f1f1;\n",
       "            max-width:  80px;\n",
       "            font-size:  10pt;\n",
       "        }    #T_213dde40_dd70_11ec_9d2b_ee1d69391bd8row2_col2 {\n",
       "            background-color:  #4479bb;\n",
       "            color:  #000000;\n",
       "            max-width:  80px;\n",
       "            font-size:  10pt;\n",
       "        }    #T_213dde40_dd70_11ec_9d2b_ee1d69391bd8row2_col3 {\n",
       "            background-color:  #4e80be;\n",
       "            color:  #000000;\n",
       "            max-width:  80px;\n",
       "            font-size:  10pt;\n",
       "        }    #T_213dde40_dd70_11ec_9d2b_ee1d69391bd8row3_col0 {\n",
       "            background-color:  #dd5671;\n",
       "            color:  #000000;\n",
       "            max-width:  80px;\n",
       "            font-size:  10pt;\n",
       "        }    #T_213dde40_dd70_11ec_9d2b_ee1d69391bd8row3_col1 {\n",
       "            background-color:  #d73c5b;\n",
       "            color:  #f1f1f1;\n",
       "            max-width:  80px;\n",
       "            font-size:  10pt;\n",
       "        }    #T_213dde40_dd70_11ec_9d2b_ee1d69391bd8row3_col2 {\n",
       "            background-color:  #4d7fbe;\n",
       "            color:  #000000;\n",
       "            max-width:  80px;\n",
       "            font-size:  10pt;\n",
       "        }    #T_213dde40_dd70_11ec_9d2b_ee1d69391bd8row3_col3 {\n",
       "            background-color:  #4479bb;\n",
       "            color:  #000000;\n",
       "            max-width:  80px;\n",
       "            font-size:  10pt;\n",
       "        }</style><table id=\"T_213dde40_dd70_11ec_9d2b_ee1d69391bd8\" ><caption>Hover to magify</caption><thead>    <tr>        <th class=\"blank level0\" ></th>        <th class=\"col_heading level0 col0\" >id</th>        <th class=\"col_heading level0 col1\" >year founded</th>        <th class=\"col_heading level0 col2\" >current employee estimate</th>        <th class=\"col_heading level0 col3\" >total employee estimate</th>    </tr></thead><tbody>\n",
       "                <tr>\n",
       "                        <th id=\"T_213dde40_dd70_11ec_9d2b_ee1d69391bd8level0_row0\" class=\"row_heading level0 row0\" >id</th>\n",
       "                        <td id=\"T_213dde40_dd70_11ec_9d2b_ee1d69391bd8row0_col0\" class=\"data row0 col0\" >1</td>\n",
       "                        <td id=\"T_213dde40_dd70_11ec_9d2b_ee1d69391bd8row0_col1\" class=\"data row0 col1\" >-0.0014</td>\n",
       "                        <td id=\"T_213dde40_dd70_11ec_9d2b_ee1d69391bd8row0_col2\" class=\"data row0 col2\" >-0.00063</td>\n",
       "                        <td id=\"T_213dde40_dd70_11ec_9d2b_ee1d69391bd8row0_col3\" class=\"data row0 col3\" >-0.00083</td>\n",
       "            </tr>\n",
       "            <tr>\n",
       "                        <th id=\"T_213dde40_dd70_11ec_9d2b_ee1d69391bd8level0_row1\" class=\"row_heading level0 row1\" >year founded</th>\n",
       "                        <td id=\"T_213dde40_dd70_11ec_9d2b_ee1d69391bd8row1_col0\" class=\"data row1 col0\" >-0.0014</td>\n",
       "                        <td id=\"T_213dde40_dd70_11ec_9d2b_ee1d69391bd8row1_col1\" class=\"data row1 col1\" >1</td>\n",
       "                        <td id=\"T_213dde40_dd70_11ec_9d2b_ee1d69391bd8row1_col2\" class=\"data row1 col2\" >-0.082</td>\n",
       "                        <td id=\"T_213dde40_dd70_11ec_9d2b_ee1d69391bd8row1_col3\" class=\"data row1 col3\" >-0.084</td>\n",
       "            </tr>\n",
       "            <tr>\n",
       "                        <th id=\"T_213dde40_dd70_11ec_9d2b_ee1d69391bd8level0_row2\" class=\"row_heading level0 row2\" >current employee estimate</th>\n",
       "                        <td id=\"T_213dde40_dd70_11ec_9d2b_ee1d69391bd8row2_col0\" class=\"data row2 col0\" >-0.00063</td>\n",
       "                        <td id=\"T_213dde40_dd70_11ec_9d2b_ee1d69391bd8row2_col1\" class=\"data row2 col1\" >-0.082</td>\n",
       "                        <td id=\"T_213dde40_dd70_11ec_9d2b_ee1d69391bd8row2_col2\" class=\"data row2 col2\" >1</td>\n",
       "                        <td id=\"T_213dde40_dd70_11ec_9d2b_ee1d69391bd8row2_col3\" class=\"data row2 col3\" >0.97</td>\n",
       "            </tr>\n",
       "            <tr>\n",
       "                        <th id=\"T_213dde40_dd70_11ec_9d2b_ee1d69391bd8level0_row3\" class=\"row_heading level0 row3\" >total employee estimate</th>\n",
       "                        <td id=\"T_213dde40_dd70_11ec_9d2b_ee1d69391bd8row3_col0\" class=\"data row3 col0\" >-0.00083</td>\n",
       "                        <td id=\"T_213dde40_dd70_11ec_9d2b_ee1d69391bd8row3_col1\" class=\"data row3 col1\" >-0.084</td>\n",
       "                        <td id=\"T_213dde40_dd70_11ec_9d2b_ee1d69391bd8row3_col2\" class=\"data row3 col2\" >0.97</td>\n",
       "                        <td id=\"T_213dde40_dd70_11ec_9d2b_ee1d69391bd8row3_col3\" class=\"data row3 col3\" >1</td>\n",
       "            </tr>\n",
       "    </tbody></table>"
      ],
      "text/plain": [
       "<pandas.io.formats.style.Styler at 0x7fcbab8664e0>"
      ]
     },
     "execution_count": 17,
     "metadata": {},
     "output_type": "execute_result"
    }
   ],
   "source": [
    "#Otra forma de ver la correlación, no solo con colores sino con los valores de cada correlación.\n",
    "\n",
    "cmap=sns.diverging_palette(5, 250, as_cmap=True)\n",
    "\n",
    "def magnify():\n",
    "    return [dict(selector=\"th\",\n",
    "                 props=[(\"font-size\", \"7pt\")]),\n",
    "            dict(selector=\"td\",\n",
    "                 props=[('padding', \"0em 0em\")]),\n",
    "            dict(selector=\"th:hover\",\n",
    "                 props=[(\"font-size\", \"12pt\")]),\n",
    "            dict(selector=\"tr:hover td:hover\",\n",
    "                 props=[('max-width', '200px'),\n",
    "                        ('font-size', '12pt')])\n",
    "]\n",
    "\n",
    "corr.style.background_gradient(cmap, axis=1)\\\n",
    "    .set_properties(**{'max-width': '80px', 'font-size': '10pt'})\\\n",
    "    .set_caption(\"Hover to magify\")\\\n",
    "    .set_precision(2)\\\n",
    "    .set_table_styles(magnify())"
   ]
  },
  {
   "cell_type": "markdown",
   "metadata": {},
   "source": [
    "Vemos que las columnas \"total employee estimate\" y \"current employee estimate\" están muy relacionadas. Por lo tanto, nos quedamos solamente con la segunda columna."
   ]
  },
  {
   "cell_type": "code",
   "execution_count": 18,
   "metadata": {},
   "outputs": [],
   "source": [
    "companies = companies.drop(col(\"total employee estimate\"))"
   ]
  },
  {
   "cell_type": "code",
   "execution_count": 19,
   "metadata": {},
   "outputs": [],
   "source": [
    "# También borramos la columna id porque no aporta info\n",
    "companies = companies.drop(col(\"id\"))"
   ]
  },
  {
   "cell_type": "code",
   "execution_count": 20,
   "metadata": {},
   "outputs": [
    {
     "data": {
      "text/plain": [
       "['name',\n",
       " 'domain',\n",
       " 'year founded',\n",
       " 'industry',\n",
       " 'size range',\n",
       " 'locality',\n",
       " 'country',\n",
       " 'linkedin url',\n",
       " 'current employee estimate']"
      ]
     },
     "execution_count": 20,
     "metadata": {},
     "output_type": "execute_result"
    }
   ],
   "source": [
    "companies.columns"
   ]
  },
  {
   "cell_type": "markdown",
   "metadata": {},
   "source": [
    "## Consultas"
   ]
  },
  {
   "cell_type": "markdown",
   "metadata": {},
   "source": [
    "### Determinar cuál es la industria principal considerando todos los países"
   ]
  },
  {
   "cell_type": "code",
   "execution_count": 21,
   "metadata": {
    "scrolled": true
   },
   "outputs": [],
   "source": [
    "# Agrupamos el dataset por industria, y observamos la cantidad de empresas por industria\n",
    "count_per_industry = companies.groupBy(\"industry\").count()"
   ]
  },
  {
   "cell_type": "code",
   "execution_count": 22,
   "metadata": {},
   "outputs": [
    {
     "name": "stdout",
     "output_type": "stream",
     "text": [
      "+--------------------+------+\n",
      "|            industry| count|\n",
      "+--------------------+------+\n",
      "|aviation & aerospace| 17925|\n",
      "|glass, ceramics &...|  5588|\n",
      "|     pharmaceuticals| 36813|\n",
      "|recreational faci...| 13870|\n",
      "|     defense & space| 10278|\n",
      "|     broadcast media| 29824|\n",
      "|             fishery|  2355|\n",
      "|          publishing| 44375|\n",
      "|           utilities| 18803|\n",
      "|          veterinary| 14860|\n",
      "|         think tanks|  8203|\n",
      "|          automotive|104143|\n",
      "|industrial automa...| 26795|\n",
      "|packaging and con...| 15719|\n",
      "|        law practice| 81632|\n",
      "|               dairy|  3119|\n",
      "|         warehousing|  7628|\n",
      "|health, wellness ...|145671|\n",
      "|railroad manufacture|  1818|\n",
      "|           wholesale| 45378|\n",
      "+--------------------+------+\n",
      "only showing top 20 rows\n",
      "\n"
     ]
    }
   ],
   "source": [
    "count_per_industry.show()"
   ]
  },
  {
   "cell_type": "code",
   "execution_count": 23,
   "metadata": {},
   "outputs": [],
   "source": [
    "from pyspark.sql.functions import max"
   ]
  },
  {
   "cell_type": "code",
   "execution_count": 24,
   "metadata": {},
   "outputs": [],
   "source": [
    "# Calculamos cuántas empresas tiene la industria con más empresas\n",
    "count_industry_with_more_companies = count_per_industry.agg({\"count\" : \"max\"}).collect()[0][0]"
   ]
  },
  {
   "cell_type": "code",
   "execution_count": 25,
   "metadata": {},
   "outputs": [
    {
     "name": "stdout",
     "output_type": "stream",
     "text": [
      "La industria con más empresas tiene 453044 empresas\n"
     ]
    }
   ],
   "source": [
    "print(\"La industria con más empresas tiene {} empresas\".format(count_industry_with_more_companies))"
   ]
  },
  {
   "cell_type": "code",
   "execution_count": 26,
   "metadata": {},
   "outputs": [
    {
     "name": "stdout",
     "output_type": "stream",
     "text": [
      "+--------------------+------+\n",
      "|            industry| count|\n",
      "+--------------------+------+\n",
      "|information techn...|453044|\n",
      "+--------------------+------+\n",
      "\n"
     ]
    }
   ],
   "source": [
    "# Calculamos cual es la industria con más empresas a nivel mundial\n",
    "count_per_industry.where((count_per_industry[\"count\"] == count_industry_with_more_companies)).show()"
   ]
  },
  {
   "cell_type": "markdown",
   "metadata": {},
   "source": [
    "#### => La industria con más empresas es \"Information technology and services\""
   ]
  },
  {
   "cell_type": "markdown",
   "metadata": {},
   "source": [
    "### Determinar cuál es la industria principal en Uruguay"
   ]
  },
  {
   "cell_type": "code",
   "execution_count": 27,
   "metadata": {},
   "outputs": [],
   "source": [
    "# Primero nos quedamos con las empresas de Uruguay\n",
    "uruguay_companies = companies.where((companies[\"country\"] == \"uruguay\"))"
   ]
  },
  {
   "cell_type": "code",
   "execution_count": 28,
   "metadata": {},
   "outputs": [
    {
     "data": {
      "text/plain": [
       "3036"
      ]
     },
     "execution_count": 28,
     "metadata": {},
     "output_type": "execute_result"
    }
   ],
   "source": [
    "# Observamos cuántas empresas en el dataset son de Uruguay\n",
    "uruguay_companies.count()"
   ]
  },
  {
   "cell_type": "code",
   "execution_count": 29,
   "metadata": {},
   "outputs": [
    {
     "name": "stdout",
     "output_type": "stream",
     "text": [
      "+--------------------+-----+\n",
      "|            industry|count|\n",
      "+--------------------+-----+\n",
      "|aviation & aerospace|    1|\n",
      "|     pharmaceuticals|   17|\n",
      "|recreational faci...|    4|\n",
      "|     broadcast media|   25|\n",
      "|             fishery|    1|\n",
      "|           utilities|    5|\n",
      "|          publishing|    7|\n",
      "|          veterinary|    2|\n",
      "|         think tanks|    3|\n",
      "|          automotive|   20|\n",
      "|industrial automa...|   11|\n",
      "|packaging and con...|    6|\n",
      "|        law practice|   16|\n",
      "|               dairy|    1|\n",
      "|         warehousing|    2|\n",
      "|health, wellness ...|   32|\n",
      "|           wholesale|   25|\n",
      "|environmental ser...|   10|\n",
      "|         real estate|   98|\n",
      "| program development|   33|\n",
      "+--------------------+-----+\n",
      "only showing top 20 rows\n",
      "\n"
     ]
    }
   ],
   "source": [
    "# Agrupamos las empresas por industria\n",
    "count_per_industry_in_uruguay = uruguay_companies.groupBy(\"industry\").count()\n",
    "count_per_industry_in_uruguay.show()"
   ]
  },
  {
   "cell_type": "code",
   "execution_count": 30,
   "metadata": {},
   "outputs": [],
   "source": [
    "# Calculamos cuántas empresas tiene la industria con más empresas en Uruguay\n",
    "count_industry_with_more_companies_in_uruguay = count_per_industry_in_uruguay.agg({\"count\" : \"max\"}).collect()[0][0]"
   ]
  },
  {
   "cell_type": "code",
   "execution_count": 31,
   "metadata": {},
   "outputs": [
    {
     "name": "stdout",
     "output_type": "stream",
     "text": [
      "La industria con más empresas en Uruguay tiene 344 empresas\n"
     ]
    }
   ],
   "source": [
    "print(\"La industria con más empresas en Uruguay tiene {} empresas\".format(count_industry_with_more_companies_in_uruguay))"
   ]
  },
  {
   "cell_type": "code",
   "execution_count": 32,
   "metadata": {},
   "outputs": [
    {
     "name": "stdout",
     "output_type": "stream",
     "text": [
      "+--------------------+-----+\n",
      "|            industry|count|\n",
      "+--------------------+-----+\n",
      "|information techn...|  344|\n",
      "+--------------------+-----+\n",
      "\n"
     ]
    }
   ],
   "source": [
    "# Calculamos cual es la industria con más empresas en Uruguay\n",
    "count_per_industry_in_uruguay.where((count_per_industry_in_uruguay[\"count\"] == count_industry_with_more_companies_in_uruguay)).show()"
   ]
  },
  {
   "cell_type": "markdown",
   "metadata": {},
   "source": [
    "#### => La industria con más empresas en Uruguay es \"Information technology and services\""
   ]
  },
  {
   "cell_type": "markdown",
   "metadata": {},
   "source": [
    "### Determinar cuál es la industria principal en Estados Unidos"
   ]
  },
  {
   "cell_type": "code",
   "execution_count": 33,
   "metadata": {},
   "outputs": [],
   "source": [
    "# Primero nos quedamos con las empresas de Estados Unidos\n",
    "american_companies = companies.where((companies[\"country\"] == \"united states\"))"
   ]
  },
  {
   "cell_type": "code",
   "execution_count": 34,
   "metadata": {},
   "outputs": [
    {
     "data": {
      "text/plain": [
       "2278866"
      ]
     },
     "execution_count": 34,
     "metadata": {},
     "output_type": "execute_result"
    }
   ],
   "source": [
    "# Observamos cuántas empresas en el dataset son de Estados Unidos\n",
    "american_companies.count()"
   ]
  },
  {
   "cell_type": "code",
   "execution_count": 35,
   "metadata": {},
   "outputs": [
    {
     "name": "stdout",
     "output_type": "stream",
     "text": [
      "+--------------------+-----+\n",
      "|            industry|count|\n",
      "+--------------------+-----+\n",
      "|aviation & aerospace| 7265|\n",
      "|glass, ceramics &...| 1529|\n",
      "|     pharmaceuticals|10775|\n",
      "|recreational faci...| 6524|\n",
      "|     defense & space| 5520|\n",
      "|     broadcast media| 8091|\n",
      "|             fishery|  756|\n",
      "|           utilities| 6302|\n",
      "|          publishing|12582|\n",
      "|          veterinary| 8837|\n",
      "|         think tanks| 2009|\n",
      "|          automotive|39140|\n",
      "|industrial automa...| 6576|\n",
      "|packaging and con...| 4935|\n",
      "|        law practice|37903|\n",
      "|               dairy| 1129|\n",
      "|         warehousing| 4090|\n",
      "|health, wellness ...|57433|\n",
      "|railroad manufacture|  507|\n",
      "|           wholesale|14321|\n",
      "+--------------------+-----+\n",
      "only showing top 20 rows\n",
      "\n"
     ]
    }
   ],
   "source": [
    "# Agrupamos las empresas por industria\n",
    "count_per_industry_in_usa = american_companies.groupBy(\"industry\").count()\n",
    "count_per_industry_in_usa.show()"
   ]
  },
  {
   "cell_type": "code",
   "execution_count": 36,
   "metadata": {},
   "outputs": [],
   "source": [
    "# Calculamos cuántas empresas tiene la industria con más empresas en Estados Unidos\n",
    "count_industry_with_more_companies_in_usa = count_per_industry_in_usa.agg({\"count\" : \"max\"}).collect()[0][0]"
   ]
  },
  {
   "cell_type": "code",
   "execution_count": 37,
   "metadata": {},
   "outputs": [
    {
     "name": "stdout",
     "output_type": "stream",
     "text": [
      "La industria con más empresas en Estados Unidos tiene 113767 empresas\n"
     ]
    }
   ],
   "source": [
    "print(\"La industria con más empresas en Estados Unidos tiene {} empresas\".format(count_industry_with_more_companies_in_usa))"
   ]
  },
  {
   "cell_type": "code",
   "execution_count": 38,
   "metadata": {},
   "outputs": [
    {
     "name": "stdout",
     "output_type": "stream",
     "text": [
      "+------------+------+\n",
      "|    industry| count|\n",
      "+------------+------+\n",
      "|construction|113767|\n",
      "+------------+------+\n",
      "\n"
     ]
    }
   ],
   "source": [
    "# Calculamos cual es la industria con más empresas en Estados Unidos\n",
    "count_per_industry_in_usa.where((count_per_industry_in_usa[\"count\"] == count_industry_with_more_companies_in_usa)).show()"
   ]
  },
  {
   "cell_type": "markdown",
   "metadata": {},
   "source": [
    "#### => La industria con más empresas en Estados Unidos es \"Construcción\""
   ]
  },
  {
   "cell_type": "markdown",
   "metadata": {},
   "source": [
    "### Determinar el país con más empresas"
   ]
  },
  {
   "cell_type": "code",
   "execution_count": 39,
   "metadata": {},
   "outputs": [
    {
     "name": "stdout",
     "output_type": "stream",
     "text": [
      "+--------------------+------+\n",
      "|             country| count|\n",
      "+--------------------+------+\n",
      "|            guernsey|   325|\n",
      "|               aruba|   130|\n",
      "|             finland| 17193|\n",
      "|           australia|117133|\n",
      "|              greece| 10937|\n",
      "|           greenland|   100|\n",
      "|            portugal| 21586|\n",
      "|              israel| 10097|\n",
      "|             ukraine|  6481|\n",
      "|             nigeria|  7584|\n",
      "|netherlands antilles|   114|\n",
      "|              angola|   721|\n",
      "|             eritrea|     4|\n",
      "|         timor-leste|    14|\n",
      "|              zambia|   480|\n",
      "|        cook islands|    26|\n",
      "|          seychelles|   132|\n",
      "|       liechtenstein|   260|\n",
      "|             bermuda|   746|\n",
      "|               macau|   149|\n",
      "+--------------------+------+\n",
      "only showing top 20 rows\n",
      "\n"
     ]
    }
   ],
   "source": [
    "# Agrupamos las empresas por país\n",
    "count_per_country = companies.filter(companies[\"country\"].isNotNull()).groupBy(\"country\").count()\n",
    "count_per_country.show()"
   ]
  },
  {
   "cell_type": "code",
   "execution_count": 40,
   "metadata": {},
   "outputs": [],
   "source": [
    "# Calculamos cuántas empresas tiene el país con más empresas\n",
    "count_country_with_more_companies = count_per_country.agg({\"count\" : \"max\"}).collect()[0][0]"
   ]
  },
  {
   "cell_type": "code",
   "execution_count": 41,
   "metadata": {},
   "outputs": [
    {
     "name": "stdout",
     "output_type": "stream",
     "text": [
      "El país con más empresas tiene 2278866 empresas\n"
     ]
    }
   ],
   "source": [
    "print(\"El país con más empresas tiene {} empresas\".format(count_country_with_more_companies))"
   ]
  },
  {
   "cell_type": "code",
   "execution_count": 42,
   "metadata": {},
   "outputs": [
    {
     "name": "stdout",
     "output_type": "stream",
     "text": [
      "+-------------+-------+\n",
      "|      country|  count|\n",
      "+-------------+-------+\n",
      "|united states|2278866|\n",
      "+-------------+-------+\n",
      "\n"
     ]
    }
   ],
   "source": [
    "# Calculamos cual es el país con más empresas a nivel mundial\n",
    "count_per_country.where((count_per_country[\"count\"] == count_country_with_more_companies)).show()"
   ]
  },
  {
   "cell_type": "markdown",
   "metadata": {},
   "source": [
    "#### => El país con más empresas es: Estados Unidos"
   ]
  },
  {
   "cell_type": "markdown",
   "metadata": {},
   "source": [
    "### Determinar la localidad con más empresas a nivel mundial"
   ]
  },
  {
   "cell_type": "code",
   "execution_count": 43,
   "metadata": {},
   "outputs": [],
   "source": [
    "# Agrupamos el dataset por localidad, y observamos la cantidad de empresas por localidad\n",
    "count_per_locality = companies.filter(companies[\"locality\"].isNotNull()).groupBy(\"locality\").count()"
   ]
  },
  {
   "cell_type": "code",
   "execution_count": 44,
   "metadata": {},
   "outputs": [
    {
     "name": "stdout",
     "output_type": "stream",
     "text": [
      "+--------------------+-----+\n",
      "|            locality|count|\n",
      "+--------------------+-----+\n",
      "|helsinki, uusimaa...| 6489|\n",
      "|naples, florida, ...| 2621|\n",
      "|cuauhtemoc, mexic...|   12|\n",
      "|tarrytown, new yo...|  312|\n",
      "|alvares florence,...|    5|\n",
      "|sherbrooke, quebe...|  705|\n",
      "|shreveport, louis...| 1142|\n",
      "|hempstead, new yo...|  220|\n",
      "|jordan, new york,...|  185|\n",
      "|williamsburg, vir...|  618|\n",
      "|kingsey falls, qu...|   10|\n",
      "|frederick, maryla...| 1204|\n",
      "|pell city, alabam...|   83|\n",
      "|nacogdoches, texa...|  210|\n",
      "|san marcos, calif...|  738|\n",
      "|vila nova de fama...|  145|\n",
      "|heerenveen, fries...|  380|\n",
      "|hays, kansas, uni...|  156|\n",
      "|carmen, campeche,...|   49|\n",
      "|firestone, colora...|   47|\n",
      "+--------------------+-----+\n",
      "only showing top 20 rows\n",
      "\n"
     ]
    }
   ],
   "source": [
    "count_per_locality.show()"
   ]
  },
  {
   "cell_type": "code",
   "execution_count": 45,
   "metadata": {},
   "outputs": [],
   "source": [
    "# Calculamos cuántas empresas tiene la localidad con más empresas\n",
    "count_locality_with_more_companies = count_per_locality.agg({\"count\" : \"max\"}).collect()[0][0]"
   ]
  },
  {
   "cell_type": "code",
   "execution_count": 46,
   "metadata": {},
   "outputs": [
    {
     "name": "stdout",
     "output_type": "stream",
     "text": [
      "La localidad con más empresas tiene 88225 empresas\n"
     ]
    }
   ],
   "source": [
    "print(\"La localidad con más empresas tiene {} empresas\".format(count_locality_with_more_companies))"
   ]
  },
  {
   "cell_type": "code",
   "execution_count": 47,
   "metadata": {},
   "outputs": [
    {
     "name": "stdout",
     "output_type": "stream",
     "text": [
      "+--------------------+-----+\n",
      "|            locality|count|\n",
      "+--------------------+-----+\n",
      "|london, greater l...|88225|\n",
      "+--------------------+-----+\n",
      "\n"
     ]
    }
   ],
   "source": [
    "# Calculamos cual es la localidad con más empresas\n",
    "count_per_locality.where((count_per_locality[\"count\"] == count_locality_with_more_companies)).show()"
   ]
  },
  {
   "cell_type": "markdown",
   "metadata": {},
   "source": [
    "#### => La localidad con más empresas es \"London, Greater london, United Kingdom\""
   ]
  },
  {
   "cell_type": "markdown",
   "metadata": {},
   "source": [
    "### Determinar la localidad con más empresas en Uruguay"
   ]
  },
  {
   "cell_type": "code",
   "execution_count": 48,
   "metadata": {},
   "outputs": [],
   "source": [
    "# Primero nos quedamos con las empresas de Uruguay\n",
    "uruguay_companies = companies.where((companies[\"country\"] == \"uruguay\"))"
   ]
  },
  {
   "cell_type": "code",
   "execution_count": 49,
   "metadata": {},
   "outputs": [
    {
     "name": "stdout",
     "output_type": "stream",
     "text": [
      "+--------------------+-----+\n",
      "|            locality|count|\n",
      "+--------------------+-----+\n",
      "|san carlos de bar...|   14|\n",
      "|atlantida, canelo...|    3|\n",
      "|rivera, rivera, u...|    2|\n",
      "|centro, montevide...|    7|\n",
      "|ciudad de la cost...|   15|\n",
      "|ciudad vieja, dep...|    1|\n",
      "|joanico, canelone...|    1|\n",
      "|maldonado, maldon...|   23|\n",
      "|río branco, cerro...|    1|\n",
      "|shangrila, canelo...|    3|\n",
      "|punta carretas, m...|    4|\n",
      "|barra de carrasco...|    3|\n",
      "|tala, canelones, ...|    1|\n",
      "|bolson, catamarca...|    1|\n",
      "|dolores, soriano,...|    3|\n",
      "|juan lacaze, colo...|    1|\n",
      "|colon, montevideo...|    1|\n",
      "|                null|   21|\n",
      "|balneario flor de...|    1|\n",
      "|mercedes, soriano...|    6|\n",
      "+--------------------+-----+\n",
      "only showing top 20 rows\n",
      "\n"
     ]
    }
   ],
   "source": [
    "# Agrupamos las empresas por localidad\n",
    "count_per_locality_in_uruguay = uruguay_companies.groupBy(\"locality\").count()\n",
    "count_per_locality_in_uruguay.show()"
   ]
  },
  {
   "cell_type": "code",
   "execution_count": 50,
   "metadata": {},
   "outputs": [],
   "source": [
    "# Calculamos cuántas empresas tiene la localidad con más empresas en Uruguay\n",
    "count_locality_with_more_companies_in_uruguay = count_per_locality_in_uruguay.agg({\"count\" : \"max\"}).collect()[0][0]"
   ]
  },
  {
   "cell_type": "code",
   "execution_count": 51,
   "metadata": {},
   "outputs": [
    {
     "name": "stdout",
     "output_type": "stream",
     "text": [
      "La localidad con más empresas en Uruguay tiene 2575 empresas\n"
     ]
    }
   ],
   "source": [
    "print(\"La localidad con más empresas en Uruguay tiene {} empresas\".format(count_locality_with_more_companies_in_uruguay))"
   ]
  },
  {
   "cell_type": "code",
   "execution_count": 52,
   "metadata": {},
   "outputs": [
    {
     "name": "stdout",
     "output_type": "stream",
     "text": [
      "+--------------------+-----+\n",
      "|            locality|count|\n",
      "+--------------------+-----+\n",
      "|montevideo, monte...| 2575|\n",
      "+--------------------+-----+\n",
      "\n"
     ]
    }
   ],
   "source": [
    "# Calculamos cual es la localidad con más empresas en Uruguay\n",
    "count_per_locality_in_uruguay.where((count_per_locality_in_uruguay[\"count\"] == count_locality_with_more_companies_in_uruguay)).show()"
   ]
  },
  {
   "cell_type": "markdown",
   "metadata": {},
   "source": [
    "#### => La localidad con más empresas en Uruguay es \"Montevideo, Montevideo, Uruguay\""
   ]
  },
  {
   "cell_type": "markdown",
   "metadata": {},
   "source": [
    "### Determinar la localidad con más empresas en Estados Unidos"
   ]
  },
  {
   "cell_type": "code",
   "execution_count": 53,
   "metadata": {},
   "outputs": [],
   "source": [
    "# Primero nos quedamos con las empresas de Estados Unidos\n",
    "usa_companies = companies.where((companies[\"country\"] == \"united states\"))"
   ]
  },
  {
   "cell_type": "code",
   "execution_count": 54,
   "metadata": {},
   "outputs": [
    {
     "name": "stdout",
     "output_type": "stream",
     "text": [
      "+--------------------+-----+\n",
      "|            locality|count|\n",
      "+--------------------+-----+\n",
      "|naples, florida, ...| 2620|\n",
      "|tarrytown, new yo...|  312|\n",
      "|shreveport, louis...| 1141|\n",
      "|hempstead, new yo...|  220|\n",
      "|williamsburg, vir...|  617|\n",
      "|frederick, maryla...| 1201|\n",
      "|pell city, alabam...|   83|\n",
      "|jordan, new york,...|   52|\n",
      "|nacogdoches, texa...|  210|\n",
      "|san marcos, calif...|  738|\n",
      "|hays, kansas, uni...|  156|\n",
      "|firestone, colora...|   47|\n",
      "|tuskegee, alabama...|   23|\n",
      "|menasha, wisconsi...|  152|\n",
      "|roseville, minnes...|  290|\n",
      "|bryn mawr, pennsy...|  275|\n",
      "|angels camp, cali...|   30|\n",
      "|homosassa, florid...|   84|\n",
      "|maynard, massachu...|  157|\n",
      "|woodbridge, new j...|  268|\n",
      "+--------------------+-----+\n",
      "only showing top 20 rows\n",
      "\n"
     ]
    }
   ],
   "source": [
    "# Agrupamos las empresas por localidad\n",
    "count_per_locality_in_usa = usa_companies.groupBy(\"locality\").count()\n",
    "count_per_locality_in_usa.show()"
   ]
  },
  {
   "cell_type": "code",
   "execution_count": 55,
   "metadata": {},
   "outputs": [],
   "source": [
    "# Calculamos cuántas empresas tiene la localidad con más empresas en Estados Unidos\n",
    "count_locality_with_more_companies_in_usa = count_per_locality_in_usa.agg({\"count\" : \"max\"}).collect()[0][0]"
   ]
  },
  {
   "cell_type": "code",
   "execution_count": 56,
   "metadata": {},
   "outputs": [
    {
     "name": "stdout",
     "output_type": "stream",
     "text": [
      "La localidad con más empresas en Estados Unidos tiene 66177 empresas\n"
     ]
    }
   ],
   "source": [
    "print(\"La localidad con más empresas en Estados Unidos tiene {} empresas\".format(count_locality_with_more_companies_in_usa))"
   ]
  },
  {
   "cell_type": "code",
   "execution_count": 57,
   "metadata": {},
   "outputs": [
    {
     "name": "stdout",
     "output_type": "stream",
     "text": [
      "+--------------------+-----+\n",
      "|            locality|count|\n",
      "+--------------------+-----+\n",
      "|new york, new yor...|66177|\n",
      "+--------------------+-----+\n",
      "\n"
     ]
    }
   ],
   "source": [
    "# Calculamos cual es la localidad con más empresas en Estados Unidos\n",
    "count_per_locality_in_usa.where((count_per_locality_in_usa[\"count\"] == count_locality_with_more_companies_in_usa)).show()"
   ]
  },
  {
   "cell_type": "markdown",
   "metadata": {},
   "source": [
    "#### => La localidad con más empresas en Estados Unidos es \"New York, New York, Estados Unidos\""
   ]
  },
  {
   "cell_type": "markdown",
   "metadata": {},
   "source": [
    "### Determinar la industria con mayor cantidad de empleados a nivel mundial"
   ]
  },
  {
   "cell_type": "code",
   "execution_count": 58,
   "metadata": {},
   "outputs": [],
   "source": [
    "# Agrupamos el dataset por industria, y sumamos la cantidad actual de empleados por cada industria\n",
    "sum_employees_per_industry = companies.groupBy(\"industry\").sum(\"current employee estimate\")"
   ]
  },
  {
   "cell_type": "code",
   "execution_count": 59,
   "metadata": {},
   "outputs": [
    {
     "name": "stdout",
     "output_type": "stream",
     "text": [
      "+--------------------+------------------------------+\n",
      "|            industry|sum(current employee estimate)|\n",
      "+--------------------+------------------------------+\n",
      "|aviation & aerospace|                        558620|\n",
      "|glass, ceramics &...|                         67533|\n",
      "|     pharmaceuticals|                       1445570|\n",
      "|recreational faci...|                         79037|\n",
      "|     defense & space|                        667586|\n",
      "|     broadcast media|                        626556|\n",
      "|             fishery|                         16762|\n",
      "|          publishing|                        464770|\n",
      "|           utilities|                        769332|\n",
      "|          veterinary|                         62759|\n",
      "|         think tanks|                         54268|\n",
      "|          automotive|                       1992528|\n",
      "|industrial automa...|                        281801|\n",
      "|packaging and con...|                        232698|\n",
      "|        law practice|                        893512|\n",
      "|               dairy|                         62365|\n",
      "|         warehousing|                         43252|\n",
      "|health, wellness ...|                       1227241|\n",
      "|railroad manufacture|                         54096|\n",
      "|           wholesale|                        392027|\n",
      "+--------------------+------------------------------+\n",
      "only showing top 20 rows\n",
      "\n"
     ]
    }
   ],
   "source": [
    "sum_employees_per_industry.show()"
   ]
  },
  {
   "cell_type": "code",
   "execution_count": 60,
   "metadata": {},
   "outputs": [],
   "source": [
    "# Calculamos cuántos empleados tiene actualmente la industria con más empleados\n",
    "sum_company_with_more_employees = sum_employees_per_industry.agg({\"sum(current employee estimate)\" : \"max\"}).collect()[0][0]"
   ]
  },
  {
   "cell_type": "code",
   "execution_count": 61,
   "metadata": {},
   "outputs": [
    {
     "name": "stdout",
     "output_type": "stream",
     "text": [
      "La industria con más empleados actualmente tiene 7001149 empleados\n"
     ]
    }
   ],
   "source": [
    "print(\"La industria con más empleados actualmente tiene {} empleados\".format(sum_company_with_more_employees))"
   ]
  },
  {
   "cell_type": "code",
   "execution_count": 62,
   "metadata": {},
   "outputs": [
    {
     "name": "stdout",
     "output_type": "stream",
     "text": [
      "+--------------------+------------------------------+\n",
      "|            industry|sum(current employee estimate)|\n",
      "+--------------------+------------------------------+\n",
      "|information techn...|                       7001149|\n",
      "+--------------------+------------------------------+\n",
      "\n"
     ]
    }
   ],
   "source": [
    "# Calculamos cual es la industria con más empleados\n",
    "sum_employees_per_industry.where((sum_employees_per_industry[\"sum(current employee estimate)\"] == sum_company_with_more_employees)).show()"
   ]
  },
  {
   "cell_type": "markdown",
   "metadata": {},
   "source": [
    "#### => La industria con más empleados actualmente es \"Information Technolgy and Services\""
   ]
  },
  {
   "cell_type": "markdown",
   "metadata": {},
   "source": [
    "### Determinar la industria con mayor cantidad de empleados en Uruguay"
   ]
  },
  {
   "cell_type": "code",
   "execution_count": 63,
   "metadata": {},
   "outputs": [],
   "source": [
    "# Primero nos quedamos con las empresas de Uruguay\n",
    "uruguay_companies = companies.where((companies[\"country\"] == \"uruguay\"))"
   ]
  },
  {
   "cell_type": "code",
   "execution_count": 64,
   "metadata": {},
   "outputs": [],
   "source": [
    "# Agrupamos el resultado por industria, y sumamos la cantidad actual de empleados por cada industria\n",
    "sum_employees_per_industry_in_uruguay = uruguay_companies.groupBy(\"industry\").sum(\"current employee estimate\")"
   ]
  },
  {
   "cell_type": "code",
   "execution_count": 65,
   "metadata": {},
   "outputs": [
    {
     "name": "stdout",
     "output_type": "stream",
     "text": [
      "+--------------------+------------------------------+\n",
      "|            industry|sum(current employee estimate)|\n",
      "+--------------------+------------------------------+\n",
      "|aviation & aerospace|                             6|\n",
      "|     pharmaceuticals|                           323|\n",
      "|recreational faci...|                            42|\n",
      "|     broadcast media|                           200|\n",
      "|             fishery|                             1|\n",
      "|           utilities|                          1716|\n",
      "|          publishing|                           246|\n",
      "|          veterinary|                           124|\n",
      "|         think tanks|                             2|\n",
      "|          automotive|                           127|\n",
      "|industrial automa...|                            25|\n",
      "|packaging and con...|                            26|\n",
      "|        law practice|                           296|\n",
      "|               dairy|                            13|\n",
      "|         warehousing|                             2|\n",
      "|health, wellness ...|                           207|\n",
      "|           wholesale|                           133|\n",
      "|environmental ser...|                            33|\n",
      "|         real estate|                           232|\n",
      "| program development|                            83|\n",
      "+--------------------+------------------------------+\n",
      "only showing top 20 rows\n",
      "\n"
     ]
    }
   ],
   "source": [
    "sum_employees_per_industry_in_uruguay.show()"
   ]
  },
  {
   "cell_type": "code",
   "execution_count": 66,
   "metadata": {},
   "outputs": [],
   "source": [
    "# Calculamos cuántos empleados tiene actualmente la industria con más empleados en Uruguay\n",
    "sum_company_with_more_employees_in_uruguay = sum_employees_per_industry_in_uruguay.agg({\"sum(current employee estimate)\" : \"max\"}).collect()[0][0]"
   ]
  },
  {
   "cell_type": "code",
   "execution_count": 67,
   "metadata": {},
   "outputs": [
    {
     "name": "stdout",
     "output_type": "stream",
     "text": [
      "La industria con más empleados actualmente en Uruguay tiene 5867 empleados\n"
     ]
    }
   ],
   "source": [
    "print(\"La industria con más empleados actualmente en Uruguay tiene {} empleados\".format(sum_company_with_more_employees_in_uruguay))"
   ]
  },
  {
   "cell_type": "code",
   "execution_count": 68,
   "metadata": {},
   "outputs": [
    {
     "name": "stdout",
     "output_type": "stream",
     "text": [
      "+------------------+------------------------------+\n",
      "|          industry|sum(current employee estimate)|\n",
      "+------------------+------------------------------+\n",
      "|telecommunications|                          5867|\n",
      "+------------------+------------------------------+\n",
      "\n"
     ]
    }
   ],
   "source": [
    "# Calculamos cual es la industria con más empleados en Uruguay\n",
    "sum_employees_per_industry_in_uruguay.where((sum_employees_per_industry_in_uruguay[\"sum(current employee estimate)\"] == sum_company_with_more_employees_in_uruguay)).show()"
   ]
  },
  {
   "cell_type": "markdown",
   "metadata": {},
   "source": [
    "#### => La industria con más empleados en Uruguay actualmente es Telecomunicaciones"
   ]
  },
  {
   "cell_type": "markdown",
   "metadata": {},
   "source": [
    "### Determinar la industria con mayor cantidad de empleados en Estados Unidos"
   ]
  },
  {
   "cell_type": "code",
   "execution_count": 69,
   "metadata": {},
   "outputs": [],
   "source": [
    "# Primero nos quedamos con las empresas de Estados Unidos\n",
    "usa_companies = companies.where((companies[\"country\"] == \"united states\"))"
   ]
  },
  {
   "cell_type": "code",
   "execution_count": 70,
   "metadata": {},
   "outputs": [],
   "source": [
    "# Agrupamos el resultado por industria, y sumamos la cantidad actual de empleados por cada industria\n",
    "sum_employees_per_industry_in_usa = usa_companies.groupBy(\"industry\").sum(\"current employee estimate\")"
   ]
  },
  {
   "cell_type": "code",
   "execution_count": 71,
   "metadata": {},
   "outputs": [
    {
     "name": "stdout",
     "output_type": "stream",
     "text": [
      "+--------------------+------------------------------+\n",
      "|            industry|sum(current employee estimate)|\n",
      "+--------------------+------------------------------+\n",
      "|aviation & aerospace|                        303421|\n",
      "|glass, ceramics &...|                         21343|\n",
      "|     pharmaceuticals|                        516752|\n",
      "|recreational faci...|                         36652|\n",
      "|     defense & space|                        458201|\n",
      "|     broadcast media|                        169507|\n",
      "|             fishery|                          8320|\n",
      "|           utilities|                        282748|\n",
      "|          publishing|                        157177|\n",
      "|          veterinary|                         32781|\n",
      "|         think tanks|                         15968|\n",
      "|          automotive|                        675567|\n",
      "|industrial automa...|                        105819|\n",
      "|packaging and con...|                        116922|\n",
      "|        law practice|                        445013|\n",
      "|               dairy|                          9319|\n",
      "|         warehousing|                         18323|\n",
      "|health, wellness ...|                        571406|\n",
      "|railroad manufacture|                         25218|\n",
      "|           wholesale|                        168813|\n",
      "+--------------------+------------------------------+\n",
      "only showing top 20 rows\n",
      "\n"
     ]
    }
   ],
   "source": [
    "sum_employees_per_industry_in_usa.show()"
   ]
  },
  {
   "cell_type": "code",
   "execution_count": null,
   "metadata": {},
   "outputs": [],
   "source": [
    "# Calculamos cuántos empleados tiene actualmente la industria con más empleados en Estados Unidos\n",
    "sum_company_with_more_employees_in_usa = sum_employees_per_industry_in_usa.agg({\"sum(current employee estimate)\" : \"max\"}).collect()[0][0]"
   ]
  },
  {
   "cell_type": "code",
   "execution_count": null,
   "metadata": {},
   "outputs": [],
   "source": [
    "print(\"La industria con más empleados actualmente en Estados Unidos tiene {} empleados\".format(sum_company_with_more_employees_in_usa))"
   ]
  },
  {
   "cell_type": "code",
   "execution_count": null,
   "metadata": {},
   "outputs": [],
   "source": [
    "# Calculamos cual es la industria con más empleados en Estados Unidos\n",
    "sum_employees_per_industry_in_usa.where((sum_employees_per_industry_in_usa[\"sum(current employee estimate)\"] == sum_company_with_more_employees_in_usa)).show()"
   ]
  },
  {
   "cell_type": "markdown",
   "metadata": {},
   "source": [
    "#### => La industria con más empleados en Estados Unidos es \"hospital & health care\""
   ]
  },
  {
   "cell_type": "markdown",
   "metadata": {},
   "source": [
    "### Analizar la palabra más repetida en los nombres de las empresas"
   ]
  },
  {
   "cell_type": "code",
   "execution_count": null,
   "metadata": {},
   "outputs": [],
   "source": [
    "companies\n"
   ]
  },
  {
   "cell_type": "code",
   "execution_count": null,
   "metadata": {},
   "outputs": [],
   "source": []
  }
 ],
 "metadata": {
  "kernelspec": {
   "display_name": "Python 3",
   "language": "python",
   "name": "python3"
  },
  "language_info": {
   "codemirror_mode": {
    "name": "ipython",
    "version": 3
   },
   "file_extension": ".py",
   "mimetype": "text/x-python",
   "name": "python",
   "nbconvert_exporter": "python",
   "pygments_lexer": "ipython3",
   "version": "3.7.3"
  }
 },
 "nbformat": 4,
 "nbformat_minor": 2
}
