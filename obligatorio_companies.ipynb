{
 "cells": [
  {
   "cell_type": "markdown",
   "metadata": {},
   "source": [
    "# OBLIGATORIO BIG DATA"
   ]
  },
  {
   "cell_type": "markdown",
   "metadata": {},
   "source": [
    "## Sistema de análisis de información de compañías bajo Big data"
   ]
  },
  {
   "cell_type": "code",
   "execution_count": 2,
   "metadata": {},
   "outputs": [],
   "source": [
    "from pyspark.sql import SparkSession\n",
    "spark = SparkSession.builder.appName(\"companies_analysis\").getOrCreate()"
   ]
  },
  {
   "cell_type": "code",
   "execution_count": 3,
   "metadata": {},
   "outputs": [],
   "source": [
    "from pyspark.sql.types import  (StructType, \n",
    "                                StructField, \n",
    "                                DateType, \n",
    "                                BooleanType,\n",
    "                                DoubleType,\n",
    "                                IntegerType,\n",
    "                                StringType,\n",
    "                               TimestampType)\n",
    "from pyspark.sql.functions import col, max, min"
   ]
  },
  {
   "cell_type": "code",
   "execution_count": 4,
   "metadata": {},
   "outputs": [],
   "source": [
    "import seaborn as sns \n",
    "import pandas as pd \n",
    "import numpy as np\n",
    "import matplotlib.pyplot as plt\n",
    "import warnings"
   ]
  },
  {
   "cell_type": "markdown",
   "metadata": {},
   "source": [
    "Creamos el dataframe de compañías"
   ]
  },
  {
   "cell_type": "code",
   "execution_count": 5,
   "metadata": {},
   "outputs": [],
   "source": [
    "companies = spark.read.csv(\"companies_sorted.csv\", header = True) "
   ]
  },
  {
   "cell_type": "markdown",
   "metadata": {},
   "source": [
    "Vemos cuántos registros tiene"
   ]
  },
  {
   "cell_type": "code",
   "execution_count": 6,
   "metadata": {},
   "outputs": [
    {
     "name": "stdout",
     "output_type": "stream",
     "text": [
      " The companies dataframe has 7173438 records\n"
     ]
    }
   ],
   "source": [
    "print(\" The companies dataframe has {} records\".format(companies.count()))"
   ]
  },
  {
   "cell_type": "markdown",
   "metadata": {},
   "source": [
    "Vemos las columnas"
   ]
  },
  {
   "cell_type": "code",
   "execution_count": 7,
   "metadata": {},
   "outputs": [
    {
     "data": {
      "text/plain": [
       "['id',\n",
       " 'name',\n",
       " 'domain',\n",
       " 'year founded',\n",
       " 'industry',\n",
       " 'size range',\n",
       " 'locality',\n",
       " 'country',\n",
       " 'linkedin url',\n",
       " 'current employee estimate',\n",
       " 'total employee estimate']"
      ]
     },
     "execution_count": 7,
     "metadata": {},
     "output_type": "execute_result"
    }
   ],
   "source": [
    "companies.columns"
   ]
  },
  {
   "cell_type": "code",
   "execution_count": null,
   "metadata": {},
   "outputs": [],
   "source": [
    "# Casteo de datos"
   ]
  },
  {
   "cell_type": "code",
   "execution_count": 9,
   "metadata": {},
   "outputs": [
    {
     "data": {
      "text/plain": [
       "[('id', 'string'),\n",
       " ('name', 'string'),\n",
       " ('domain', 'string'),\n",
       " ('year founded', 'string'),\n",
       " ('industry', 'string'),\n",
       " ('size range', 'string'),\n",
       " ('locality', 'string'),\n",
       " ('country', 'string'),\n",
       " ('linkedin url', 'string'),\n",
       " ('current employee estimate', 'string'),\n",
       " ('total employee estimate', 'string')]"
      ]
     },
     "execution_count": 9,
     "metadata": {},
     "output_type": "execute_result"
    }
   ],
   "source": [
    "companies.dtypes"
   ]
  },
  {
   "cell_type": "code",
   "execution_count": 10,
   "metadata": {},
   "outputs": [],
   "source": [
    "companies = companies.withColumn('id', (companies.id).cast('Integer'))\\\n",
    "                     .withColumn(\"year founded\", (col(\"year founded\").cast('Integer')))\\\n",
    "                     .withColumn(\"current employee estimate\", (col(\"current employee estimate\").cast('Integer')))\\\n",
    "                     .withColumn(\"total employee estimate\", (col(\"total employee estimate\").cast('Integer')))\\\n"
   ]
  },
  {
   "cell_type": "code",
   "execution_count": 11,
   "metadata": {},
   "outputs": [
    {
     "data": {
      "text/plain": [
       "[('id', 'int'),\n",
       " ('name', 'string'),\n",
       " ('domain', 'string'),\n",
       " ('year founded', 'int'),\n",
       " ('industry', 'string'),\n",
       " ('size range', 'string'),\n",
       " ('locality', 'string'),\n",
       " ('country', 'string'),\n",
       " ('linkedin url', 'string'),\n",
       " ('current employee estimate', 'int'),\n",
       " ('total employee estimate', 'int')]"
      ]
     },
     "execution_count": 11,
     "metadata": {},
     "output_type": "execute_result"
    }
   ],
   "source": [
    "companies.dtypes"
   ]
  },
  {
   "cell_type": "code",
   "execution_count": 12,
   "metadata": {},
   "outputs": [
    {
     "name": "stdout",
     "output_type": "stream",
     "text": [
      "+----------+\n",
      "|size range|\n",
      "+----------+\n",
      "|10001+    |\n",
      "|10001+    |\n",
      "|10001+    |\n",
      "|10001+    |\n",
      "|10001+    |\n",
      "|10001+    |\n",
      "|10001+    |\n",
      "|10001+    |\n",
      "|10001+    |\n",
      "|10001+    |\n",
      "+----------+\n",
      "only showing top 10 rows\n",
      "\n"
     ]
    }
   ],
   "source": [
    "companies.select(\"size range\").show(10, truncate = False)"
   ]
  },
  {
   "cell_type": "code",
   "execution_count": 13,
   "metadata": {},
   "outputs": [
    {
     "name": "stdout",
     "output_type": "stream",
     "text": [
      "root\n",
      " |-- id: integer (nullable = true)\n",
      " |-- name: string (nullable = true)\n",
      " |-- domain: string (nullable = true)\n",
      " |-- year founded: integer (nullable = true)\n",
      " |-- industry: string (nullable = true)\n",
      " |-- size range: string (nullable = true)\n",
      " |-- locality: string (nullable = true)\n",
      " |-- country: string (nullable = true)\n",
      " |-- linkedin url: string (nullable = true)\n",
      " |-- current employee estimate: integer (nullable = true)\n",
      " |-- total employee estimate: integer (nullable = true)\n",
      "\n"
     ]
    }
   ],
   "source": [
    "companies.printSchema() #comprobamos los cambios"
   ]
  },
  {
   "cell_type": "markdown",
   "metadata": {},
   "source": [
    "## Ingeniería de atributos"
   ]
  },
  {
   "cell_type": "code",
   "execution_count": 14,
   "metadata": {},
   "outputs": [],
   "source": [
    "companies_limited = companies.limit(100000)\n",
    "companies_pandas = companies_limited.toPandas() #Creamos este dataframe pandas para mejor visualización de datos"
   ]
  },
  {
   "cell_type": "code",
   "execution_count": 15,
   "metadata": {
    "scrolled": true
   },
   "outputs": [
    {
     "data": {
      "text/html": [
       "<div>\n",
       "<style scoped>\n",
       "    .dataframe tbody tr th:only-of-type {\n",
       "        vertical-align: middle;\n",
       "    }\n",
       "\n",
       "    .dataframe tbody tr th {\n",
       "        vertical-align: top;\n",
       "    }\n",
       "\n",
       "    .dataframe thead th {\n",
       "        text-align: right;\n",
       "    }\n",
       "</style>\n",
       "<table border=\"1\" class=\"dataframe\">\n",
       "  <thead>\n",
       "    <tr style=\"text-align: right;\">\n",
       "      <th></th>\n",
       "      <th>id</th>\n",
       "      <th>name</th>\n",
       "      <th>domain</th>\n",
       "      <th>year founded</th>\n",
       "      <th>industry</th>\n",
       "      <th>size range</th>\n",
       "      <th>locality</th>\n",
       "      <th>country</th>\n",
       "      <th>linkedin url</th>\n",
       "      <th>current employee estimate</th>\n",
       "      <th>total employee estimate</th>\n",
       "    </tr>\n",
       "  </thead>\n",
       "  <tbody>\n",
       "    <tr>\n",
       "      <th>0</th>\n",
       "      <td>5872184</td>\n",
       "      <td>ibm</td>\n",
       "      <td>ibm.com</td>\n",
       "      <td>1911.0</td>\n",
       "      <td>information technology and services</td>\n",
       "      <td>10001+</td>\n",
       "      <td>new york, new york, united states</td>\n",
       "      <td>united states</td>\n",
       "      <td>linkedin.com/company/ibm</td>\n",
       "      <td>274047.0</td>\n",
       "      <td>716906</td>\n",
       "    </tr>\n",
       "    <tr>\n",
       "      <th>1</th>\n",
       "      <td>4425416</td>\n",
       "      <td>tata consultancy services</td>\n",
       "      <td>tcs.com</td>\n",
       "      <td>1968.0</td>\n",
       "      <td>information technology and services</td>\n",
       "      <td>10001+</td>\n",
       "      <td>bombay, maharashtra, india</td>\n",
       "      <td>india</td>\n",
       "      <td>linkedin.com/company/tata-consultancy-services</td>\n",
       "      <td>190771.0</td>\n",
       "      <td>341369</td>\n",
       "    </tr>\n",
       "    <tr>\n",
       "      <th>2</th>\n",
       "      <td>21074</td>\n",
       "      <td>accenture</td>\n",
       "      <td>accenture.com</td>\n",
       "      <td>1989.0</td>\n",
       "      <td>information technology and services</td>\n",
       "      <td>10001+</td>\n",
       "      <td>dublin, dublin, ireland</td>\n",
       "      <td>ireland</td>\n",
       "      <td>linkedin.com/company/accenture</td>\n",
       "      <td>190689.0</td>\n",
       "      <td>455768</td>\n",
       "    </tr>\n",
       "    <tr>\n",
       "      <th>3</th>\n",
       "      <td>2309813</td>\n",
       "      <td>us army</td>\n",
       "      <td>goarmy.com</td>\n",
       "      <td>1800.0</td>\n",
       "      <td>military</td>\n",
       "      <td>10001+</td>\n",
       "      <td>alexandria, virginia, united states</td>\n",
       "      <td>united states</td>\n",
       "      <td>linkedin.com/company/us-army</td>\n",
       "      <td>162163.0</td>\n",
       "      <td>445958</td>\n",
       "    </tr>\n",
       "    <tr>\n",
       "      <th>4</th>\n",
       "      <td>1558607</td>\n",
       "      <td>ey</td>\n",
       "      <td>ey.com</td>\n",
       "      <td>1989.0</td>\n",
       "      <td>accounting</td>\n",
       "      <td>10001+</td>\n",
       "      <td>london, greater london, united kingdom</td>\n",
       "      <td>united kingdom</td>\n",
       "      <td>linkedin.com/company/ernstandyoung</td>\n",
       "      <td>158363.0</td>\n",
       "      <td>428960</td>\n",
       "    </tr>\n",
       "    <tr>\n",
       "      <th>5</th>\n",
       "      <td>3844889</td>\n",
       "      <td>hewlett-packard</td>\n",
       "      <td>hpe.com</td>\n",
       "      <td>1939.0</td>\n",
       "      <td>information technology and services</td>\n",
       "      <td>10001+</td>\n",
       "      <td>palo alto, california, united states</td>\n",
       "      <td>united states</td>\n",
       "      <td>linkedin.com/company/hewlett-packard-enterprise</td>\n",
       "      <td>127952.0</td>\n",
       "      <td>412952</td>\n",
       "    </tr>\n",
       "    <tr>\n",
       "      <th>6</th>\n",
       "      <td>2959148</td>\n",
       "      <td>cognizant technology solutions</td>\n",
       "      <td>cognizant.com</td>\n",
       "      <td>1994.0</td>\n",
       "      <td>information technology and services</td>\n",
       "      <td>10001+</td>\n",
       "      <td>teaneck, new jersey, united states</td>\n",
       "      <td>united states</td>\n",
       "      <td>linkedin.com/company/cognizant</td>\n",
       "      <td>122031.0</td>\n",
       "      <td>210020</td>\n",
       "    </tr>\n",
       "    <tr>\n",
       "      <th>7</th>\n",
       "      <td>5944912</td>\n",
       "      <td>walmart</td>\n",
       "      <td>walmartcareers.com</td>\n",
       "      <td>1962.0</td>\n",
       "      <td>retail</td>\n",
       "      <td>10001+</td>\n",
       "      <td>withee, wisconsin, united states</td>\n",
       "      <td>united states</td>\n",
       "      <td>linkedin.com/company/walmart</td>\n",
       "      <td>120753.0</td>\n",
       "      <td>272827</td>\n",
       "    </tr>\n",
       "    <tr>\n",
       "      <th>8</th>\n",
       "      <td>3727010</td>\n",
       "      <td>microsoft</td>\n",
       "      <td>microsoft.com</td>\n",
       "      <td>1975.0</td>\n",
       "      <td>computer software</td>\n",
       "      <td>10001+</td>\n",
       "      <td>redmond, washington, united states</td>\n",
       "      <td>united states</td>\n",
       "      <td>linkedin.com/company/microsoft</td>\n",
       "      <td>116196.0</td>\n",
       "      <td>276983</td>\n",
       "    </tr>\n",
       "    <tr>\n",
       "      <th>9</th>\n",
       "      <td>3300741</td>\n",
       "      <td>at&amp;t</td>\n",
       "      <td>att.com</td>\n",
       "      <td>1876.0</td>\n",
       "      <td>telecommunications</td>\n",
       "      <td>10001+</td>\n",
       "      <td>dallas, texas, united states</td>\n",
       "      <td>united states</td>\n",
       "      <td>linkedin.com/company/at&amp;t</td>\n",
       "      <td>115188.0</td>\n",
       "      <td>269659</td>\n",
       "    </tr>\n",
       "  </tbody>\n",
       "</table>\n",
       "</div>"
      ],
      "text/plain": [
       "        id                            name              domain  year founded  \\\n",
       "0  5872184                             ibm             ibm.com        1911.0   \n",
       "1  4425416       tata consultancy services             tcs.com        1968.0   \n",
       "2    21074                       accenture       accenture.com        1989.0   \n",
       "3  2309813                         us army          goarmy.com        1800.0   \n",
       "4  1558607                              ey              ey.com        1989.0   \n",
       "5  3844889                 hewlett-packard             hpe.com        1939.0   \n",
       "6  2959148  cognizant technology solutions       cognizant.com        1994.0   \n",
       "7  5944912                         walmart  walmartcareers.com        1962.0   \n",
       "8  3727010                       microsoft       microsoft.com        1975.0   \n",
       "9  3300741                            at&t             att.com        1876.0   \n",
       "\n",
       "                              industry size range  \\\n",
       "0  information technology and services     10001+   \n",
       "1  information technology and services     10001+   \n",
       "2  information technology and services     10001+   \n",
       "3                             military     10001+   \n",
       "4                           accounting     10001+   \n",
       "5  information technology and services     10001+   \n",
       "6  information technology and services     10001+   \n",
       "7                               retail     10001+   \n",
       "8                    computer software     10001+   \n",
       "9                   telecommunications     10001+   \n",
       "\n",
       "                                 locality         country  \\\n",
       "0       new york, new york, united states   united states   \n",
       "1              bombay, maharashtra, india           india   \n",
       "2                 dublin, dublin, ireland         ireland   \n",
       "3     alexandria, virginia, united states   united states   \n",
       "4  london, greater london, united kingdom  united kingdom   \n",
       "5    palo alto, california, united states   united states   \n",
       "6      teaneck, new jersey, united states   united states   \n",
       "7        withee, wisconsin, united states   united states   \n",
       "8      redmond, washington, united states   united states   \n",
       "9            dallas, texas, united states   united states   \n",
       "\n",
       "                                      linkedin url  current employee estimate  \\\n",
       "0                         linkedin.com/company/ibm                   274047.0   \n",
       "1   linkedin.com/company/tata-consultancy-services                   190771.0   \n",
       "2                   linkedin.com/company/accenture                   190689.0   \n",
       "3                     linkedin.com/company/us-army                   162163.0   \n",
       "4               linkedin.com/company/ernstandyoung                   158363.0   \n",
       "5  linkedin.com/company/hewlett-packard-enterprise                   127952.0   \n",
       "6                   linkedin.com/company/cognizant                   122031.0   \n",
       "7                     linkedin.com/company/walmart                   120753.0   \n",
       "8                   linkedin.com/company/microsoft                   116196.0   \n",
       "9                        linkedin.com/company/at&t                   115188.0   \n",
       "\n",
       "   total employee estimate  \n",
       "0                   716906  \n",
       "1                   341369  \n",
       "2                   455768  \n",
       "3                   445958  \n",
       "4                   428960  \n",
       "5                   412952  \n",
       "6                   210020  \n",
       "7                   272827  \n",
       "8                   276983  \n",
       "9                   269659  "
      ]
     },
     "execution_count": 15,
     "metadata": {},
     "output_type": "execute_result"
    }
   ],
   "source": [
    "companies_pandas.head(10) "
   ]
  },
  {
   "cell_type": "code",
   "execution_count": 16,
   "metadata": {},
   "outputs": [
    {
     "data": {
      "text/html": [
       "<div>\n",
       "<style scoped>\n",
       "    .dataframe tbody tr th:only-of-type {\n",
       "        vertical-align: middle;\n",
       "    }\n",
       "\n",
       "    .dataframe tbody tr th {\n",
       "        vertical-align: top;\n",
       "    }\n",
       "\n",
       "    .dataframe thead th {\n",
       "        text-align: right;\n",
       "    }\n",
       "</style>\n",
       "<table border=\"1\" class=\"dataframe\">\n",
       "  <thead>\n",
       "    <tr style=\"text-align: right;\">\n",
       "      <th></th>\n",
       "      <th>id</th>\n",
       "      <th>year founded</th>\n",
       "      <th>current employee estimate</th>\n",
       "      <th>total employee estimate</th>\n",
       "    </tr>\n",
       "  </thead>\n",
       "  <tbody>\n",
       "    <tr>\n",
       "      <th>count</th>\n",
       "      <td>1.000000e+05</td>\n",
       "      <td>68765.000000</td>\n",
       "      <td>99996.000000</td>\n",
       "      <td>100000.000000</td>\n",
       "    </tr>\n",
       "    <tr>\n",
       "      <th>mean</th>\n",
       "      <td>3.586865e+06</td>\n",
       "      <td>1969.451494</td>\n",
       "      <td>672.194518</td>\n",
       "      <td>1536.867080</td>\n",
       "    </tr>\n",
       "    <tr>\n",
       "      <th>std</th>\n",
       "      <td>2.068687e+06</td>\n",
       "      <td>41.859382</td>\n",
       "      <td>2927.811390</td>\n",
       "      <td>7241.805441</td>\n",
       "    </tr>\n",
       "    <tr>\n",
       "      <th>min</th>\n",
       "      <td>1.600000e+01</td>\n",
       "      <td>1451.000000</td>\n",
       "      <td>111.000000</td>\n",
       "      <td>112.000000</td>\n",
       "    </tr>\n",
       "    <tr>\n",
       "      <th>25%</th>\n",
       "      <td>1.801399e+06</td>\n",
       "      <td>1953.000000</td>\n",
       "      <td>151.000000</td>\n",
       "      <td>314.000000</td>\n",
       "    </tr>\n",
       "    <tr>\n",
       "      <th>50%</th>\n",
       "      <td>3.586812e+06</td>\n",
       "      <td>1984.000000</td>\n",
       "      <td>231.000000</td>\n",
       "      <td>516.000000</td>\n",
       "    </tr>\n",
       "    <tr>\n",
       "      <th>75%</th>\n",
       "      <td>5.375758e+06</td>\n",
       "      <td>1999.000000</td>\n",
       "      <td>469.000000</td>\n",
       "      <td>1061.000000</td>\n",
       "    </tr>\n",
       "    <tr>\n",
       "      <th>max</th>\n",
       "      <td>7.173406e+06</td>\n",
       "      <td>2019.000000</td>\n",
       "      <td>274047.000000</td>\n",
       "      <td>716906.000000</td>\n",
       "    </tr>\n",
       "  </tbody>\n",
       "</table>\n",
       "</div>"
      ],
      "text/plain": [
       "                 id  year founded  current employee estimate  \\\n",
       "count  1.000000e+05  68765.000000               99996.000000   \n",
       "mean   3.586865e+06   1969.451494                 672.194518   \n",
       "std    2.068687e+06     41.859382                2927.811390   \n",
       "min    1.600000e+01   1451.000000                 111.000000   \n",
       "25%    1.801399e+06   1953.000000                 151.000000   \n",
       "50%    3.586812e+06   1984.000000                 231.000000   \n",
       "75%    5.375758e+06   1999.000000                 469.000000   \n",
       "max    7.173406e+06   2019.000000              274047.000000   \n",
       "\n",
       "       total employee estimate  \n",
       "count            100000.000000  \n",
       "mean               1536.867080  \n",
       "std                7241.805441  \n",
       "min                 112.000000  \n",
       "25%                 314.000000  \n",
       "50%                 516.000000  \n",
       "75%                1061.000000  \n",
       "max              716906.000000  "
      ]
     },
     "execution_count": 16,
     "metadata": {},
     "output_type": "execute_result"
    }
   ],
   "source": [
    "companies_pandas.describe() #vemos la descripción estadística de los datos numéricos"
   ]
  },
  {
   "cell_type": "code",
   "execution_count": 17,
   "metadata": {},
   "outputs": [
    {
     "data": {
      "text/plain": [
       "<matplotlib.axes._subplots.AxesSubplot at 0x7fad6c6abcc0>"
      ]
     },
     "execution_count": 17,
     "metadata": {},
     "output_type": "execute_result"
    },
    {
     "data": {
      "image/png": "[encoded data removed]",
      "text/plain": [
       "<Figure size 432x288 with 2 Axes>"
      ]
     },
     "metadata": {
      "needs_background": "light"
     },
     "output_type": "display_data"
    }
   ],
   "source": [
    "#hacemos un mapa de calor para ver las correlaciones entre los atributos que tenemos\n",
    "corr = companies_pandas.corr() \n",
    "sns.heatmap(corr, \n",
    "      xticklabels=corr.columns.values, \n",
    "      yticklabels=corr.columns.values) "
   ]
  },
  {
   "cell_type": "code",
   "execution_count": 18,
   "metadata": {},
   "outputs": [
    {
     "data": {
      "text/html": [
       "<style  type=\"text/css\" >\n",
       "    #T_1965d998_d6b3_11ec_9a49_ee1d69391bd8 th {\n",
       "          font-size: 7pt;\n",
       "    }    #T_1965d998_d6b3_11ec_9a49_ee1d69391bd8 td {\n",
       "          padding: 0em 0em;\n",
       "    }    #T_1965d998_d6b3_11ec_9a49_ee1d69391bd8 th:hover {\n",
       "          font-size: 12pt;\n",
       "    }    #T_1965d998_d6b3_11ec_9a49_ee1d69391bd8 tr:hover td:hover {\n",
       "          max-width: 200px;\n",
       "          font-size: 12pt;\n",
       "    }    #T_1965d998_d6b3_11ec_9a49_ee1d69391bd8row0_col0 {\n",
       "            background-color:  #4479bb;\n",
       "            color:  #000000;\n",
       "            max-width:  80px;\n",
       "            font-size:  10pt;\n",
       "        }    #T_1965d998_d6b3_11ec_9a49_ee1d69391bd8row0_col1 {\n",
       "            background-color:  #d73c5b;\n",
       "            color:  #f1f1f1;\n",
       "            max-width:  80px;\n",
       "            font-size:  10pt;\n",
       "        }    #T_1965d998_d6b3_11ec_9a49_ee1d69391bd8row0_col2 {\n",
       "            background-color:  #d73c5b;\n",
       "            color:  #f1f1f1;\n",
       "            max-width:  80px;\n",
       "            font-size:  10pt;\n",
       "        }    #T_1965d998_d6b3_11ec_9a49_ee1d69391bd8row0_col3 {\n",
       "            background-color:  #d73c5b;\n",
       "            color:  #f1f1f1;\n",
       "            max-width:  80px;\n",
       "            font-size:  10pt;\n",
       "        }    #T_1965d998_d6b3_11ec_9a49_ee1d69391bd8row1_col0 {\n",
       "            background-color:  #dd5a74;\n",
       "            color:  #000000;\n",
       "            max-width:  80px;\n",
       "            font-size:  10pt;\n",
       "        }    #T_1965d998_d6b3_11ec_9a49_ee1d69391bd8row1_col1 {\n",
       "            background-color:  #4479bb;\n",
       "            color:  #000000;\n",
       "            max-width:  80px;\n",
       "            font-size:  10pt;\n",
       "        }    #T_1965d998_d6b3_11ec_9a49_ee1d69391bd8row1_col2 {\n",
       "            background-color:  #d73d5c;\n",
       "            color:  #f1f1f1;\n",
       "            max-width:  80px;\n",
       "            font-size:  10pt;\n",
       "        }    #T_1965d998_d6b3_11ec_9a49_ee1d69391bd8row1_col3 {\n",
       "            background-color:  #d73c5b;\n",
       "            color:  #f1f1f1;\n",
       "            max-width:  80px;\n",
       "            font-size:  10pt;\n",
       "        }    #T_1965d998_d6b3_11ec_9a49_ee1d69391bd8row2_col0 {\n",
       "            background-color:  #dd5872;\n",
       "            color:  #000000;\n",
       "            max-width:  80px;\n",
       "            font-size:  10pt;\n",
       "        }    #T_1965d998_d6b3_11ec_9a49_ee1d69391bd8row2_col1 {\n",
       "            background-color:  #d73c5b;\n",
       "            color:  #f1f1f1;\n",
       "            max-width:  80px;\n",
       "            font-size:  10pt;\n",
       "        }    #T_1965d998_d6b3_11ec_9a49_ee1d69391bd8row2_col2 {\n",
       "            background-color:  #4479bb;\n",
       "            color:  #000000;\n",
       "            max-width:  80px;\n",
       "            font-size:  10pt;\n",
       "        }    #T_1965d998_d6b3_11ec_9a49_ee1d69391bd8row2_col3 {\n",
       "            background-color:  #4e80be;\n",
       "            color:  #000000;\n",
       "            max-width:  80px;\n",
       "            font-size:  10pt;\n",
       "        }    #T_1965d998_d6b3_11ec_9a49_ee1d69391bd8row3_col0 {\n",
       "            background-color:  #dd5a74;\n",
       "            color:  #000000;\n",
       "            max-width:  80px;\n",
       "            font-size:  10pt;\n",
       "        }    #T_1965d998_d6b3_11ec_9a49_ee1d69391bd8row3_col1 {\n",
       "            background-color:  #d73c5b;\n",
       "            color:  #f1f1f1;\n",
       "            max-width:  80px;\n",
       "            font-size:  10pt;\n",
       "        }    #T_1965d998_d6b3_11ec_9a49_ee1d69391bd8row3_col2 {\n",
       "            background-color:  #4e80be;\n",
       "            color:  #000000;\n",
       "            max-width:  80px;\n",
       "            font-size:  10pt;\n",
       "        }    #T_1965d998_d6b3_11ec_9a49_ee1d69391bd8row3_col3 {\n",
       "            background-color:  #4479bb;\n",
       "            color:  #000000;\n",
       "            max-width:  80px;\n",
       "            font-size:  10pt;\n",
       "        }</style><table id=\"T_1965d998_d6b3_11ec_9a49_ee1d69391bd8\" ><caption>Hover to magify</caption><thead>    <tr>        <th class=\"blank level0\" ></th>        <th class=\"col_heading level0 col0\" >id</th>        <th class=\"col_heading level0 col1\" >year founded</th>        <th class=\"col_heading level0 col2\" >current employee estimate</th>        <th class=\"col_heading level0 col3\" >total employee estimate</th>    </tr></thead><tbody>\n",
       "                <tr>\n",
       "                        <th id=\"T_1965d998_d6b3_11ec_9a49_ee1d69391bd8level0_row0\" class=\"row_heading level0 row0\" >id</th>\n",
       "                        <td id=\"T_1965d998_d6b3_11ec_9a49_ee1d69391bd8row0_col0\" class=\"data row0 col0\" >1</td>\n",
       "                        <td id=\"T_1965d998_d6b3_11ec_9a49_ee1d69391bd8row0_col1\" class=\"data row0 col1\" >-0.003</td>\n",
       "                        <td id=\"T_1965d998_d6b3_11ec_9a49_ee1d69391bd8row0_col2\" class=\"data row0 col2\" >-0.0024</td>\n",
       "                        <td id=\"T_1965d998_d6b3_11ec_9a49_ee1d69391bd8row0_col3\" class=\"data row0 col3\" >-0.003</td>\n",
       "            </tr>\n",
       "            <tr>\n",
       "                        <th id=\"T_1965d998_d6b3_11ec_9a49_ee1d69391bd8level0_row1\" class=\"row_heading level0 row1\" >year founded</th>\n",
       "                        <td id=\"T_1965d998_d6b3_11ec_9a49_ee1d69391bd8row1_col0\" class=\"data row1 col0\" >-0.003</td>\n",
       "                        <td id=\"T_1965d998_d6b3_11ec_9a49_ee1d69391bd8row1_col1\" class=\"data row1 col1\" >1</td>\n",
       "                        <td id=\"T_1965d998_d6b3_11ec_9a49_ee1d69391bd8row1_col2\" class=\"data row1 col2\" >-0.088</td>\n",
       "                        <td id=\"T_1965d998_d6b3_11ec_9a49_ee1d69391bd8row1_col3\" class=\"data row1 col3\" >-0.096</td>\n",
       "            </tr>\n",
       "            <tr>\n",
       "                        <th id=\"T_1965d998_d6b3_11ec_9a49_ee1d69391bd8level0_row2\" class=\"row_heading level0 row2\" >current employee estimate</th>\n",
       "                        <td id=\"T_1965d998_d6b3_11ec_9a49_ee1d69391bd8row2_col0\" class=\"data row2 col0\" >-0.0024</td>\n",
       "                        <td id=\"T_1965d998_d6b3_11ec_9a49_ee1d69391bd8row2_col1\" class=\"data row2 col1\" >-0.088</td>\n",
       "                        <td id=\"T_1965d998_d6b3_11ec_9a49_ee1d69391bd8row2_col2\" class=\"data row2 col2\" >1</td>\n",
       "                        <td id=\"T_1965d998_d6b3_11ec_9a49_ee1d69391bd8row2_col3\" class=\"data row2 col3\" >0.97</td>\n",
       "            </tr>\n",
       "            <tr>\n",
       "                        <th id=\"T_1965d998_d6b3_11ec_9a49_ee1d69391bd8level0_row3\" class=\"row_heading level0 row3\" >total employee estimate</th>\n",
       "                        <td id=\"T_1965d998_d6b3_11ec_9a49_ee1d69391bd8row3_col0\" class=\"data row3 col0\" >-0.003</td>\n",
       "                        <td id=\"T_1965d998_d6b3_11ec_9a49_ee1d69391bd8row3_col1\" class=\"data row3 col1\" >-0.096</td>\n",
       "                        <td id=\"T_1965d998_d6b3_11ec_9a49_ee1d69391bd8row3_col2\" class=\"data row3 col2\" >0.97</td>\n",
       "                        <td id=\"T_1965d998_d6b3_11ec_9a49_ee1d69391bd8row3_col3\" class=\"data row3 col3\" >1</td>\n",
       "            </tr>\n",
       "    </tbody></table>"
      ],
      "text/plain": [
       "<pandas.io.formats.style.Styler at 0x7fad8068feb8>"
      ]
     },
     "execution_count": 18,
     "metadata": {},
     "output_type": "execute_result"
    }
   ],
   "source": [
    "#Otra forma de ver la correlación, no solo con colores sino con los valores de cada correlación.\n",
    "\n",
    "cmap=sns.diverging_palette(5, 250, as_cmap=True)\n",
    "\n",
    "def magnify():\n",
    "    return [dict(selector=\"th\",\n",
    "                 props=[(\"font-size\", \"7pt\")]),\n",
    "            dict(selector=\"td\",\n",
    "                 props=[('padding', \"0em 0em\")]),\n",
    "            dict(selector=\"th:hover\",\n",
    "                 props=[(\"font-size\", \"12pt\")]),\n",
    "            dict(selector=\"tr:hover td:hover\",\n",
    "                 props=[('max-width', '200px'),\n",
    "                        ('font-size', '12pt')])\n",
    "]\n",
    "\n",
    "corr.style.background_gradient(cmap, axis=1)\\\n",
    "    .set_properties(**{'max-width': '80px', 'font-size': '10pt'})\\\n",
    "    .set_caption(\"Hover to magify\")\\\n",
    "    .set_precision(2)\\\n",
    "    .set_table_styles(magnify())"
   ]
  },
  {
   "cell_type": "markdown",
   "metadata": {},
   "source": [
    "Vemos que las columnas \"total employee estimate\" y \"current employee estimate\" están muy relacionadas. Por lo tanto, nos quedamos solamente con la segunda columna."
   ]
  },
  {
   "cell_type": "code",
   "execution_count": 19,
   "metadata": {},
   "outputs": [],
   "source": [
    "companies = companies.drop(col(\"total employee estimate\"))"
   ]
  },
  {
   "cell_type": "code",
   "execution_count": 20,
   "metadata": {},
   "outputs": [],
   "source": [
    "# También borramos la columna id porque no aporta info\n",
    "companies = companies.drop(col(\"id\"))"
   ]
  },
  {
   "cell_type": "code",
   "execution_count": 21,
   "metadata": {},
   "outputs": [
    {
     "data": {
      "text/plain": [
       "['name',\n",
       " 'domain',\n",
       " 'year founded',\n",
       " 'industry',\n",
       " 'size range',\n",
       " 'locality',\n",
       " 'country',\n",
       " 'linkedin url',\n",
       " 'current employee estimate']"
      ]
     },
     "execution_count": 21,
     "metadata": {},
     "output_type": "execute_result"
    }
   ],
   "source": [
    "companies.columns"
   ]
  },
  {
   "cell_type": "markdown",
   "metadata": {},
   "source": [
    "## Consultas"
   ]
  },
  {
   "cell_type": "code",
   "execution_count": 22,
   "metadata": {},
   "outputs": [],
   "source": [
    "# ¿Cuántas industrias existen?"
   ]
  },
  {
   "cell_type": "code",
   "execution_count": 23,
   "metadata": {},
   "outputs": [
    {
     "data": {
      "text/plain": [
       "226"
      ]
     },
     "execution_count": 23,
     "metadata": {},
     "output_type": "execute_result"
    }
   ],
   "source": [
    "companies.select(\"industry\").distinct().count()"
   ]
  },
  {
   "cell_type": "code",
   "execution_count": 24,
   "metadata": {},
   "outputs": [
    {
     "name": "stdout",
     "output_type": "stream",
     "text": [
      "+--------------------+\n",
      "|            industry|\n",
      "+--------------------+\n",
      "|aviation & aerospace|\n",
      "|glass, ceramics &...|\n",
      "|     pharmaceuticals|\n",
      "|              2013.0|\n",
      "|recreational faci...|\n",
      "|     defense & space|\n",
      "|     broadcast media|\n",
      "|             fishery|\n",
      "|          publishing|\n",
      "|           utilities|\n",
      "|         breg.com.ua|\n",
      "|          veterinary|\n",
      "|        \"\"pidilite\"\"|\n",
      "|         think tanks|\n",
      "|              2006.0|\n",
      "|          automotive|\n",
      "|industrial automa...|\n",
      "|              1996.0|\n",
      "|packaging and con...|\n",
      "|     jackieslist.net|\n",
      "|        law practice|\n",
      "|              1992.0|\n",
      "|               dairy|\n",
      "|         warehousing|\n",
      "|health, wellness ...|\n",
      "|railroad manufacture|\n",
      "|              2004.0|\n",
      "|           wholesale|\n",
      "|environmental ser...|\n",
      "|         real estate|\n",
      "| program development|\n",
      "|              2002.0|\n",
      "|ecpconstrucciones.cl|\n",
      "|outsourcing/offsh...|\n",
      "|     law enforcement|\n",
      "+--------------------+\n",
      "only showing top 35 rows\n",
      "\n"
     ]
    }
   ],
   "source": [
    "companies.select(\"industry\").distinct().show(n = 35)"
   ]
  },
  {
   "cell_type": "code",
   "execution_count": null,
   "metadata": {},
   "outputs": [],
   "source": [
    "# ¿Cuántos paises tiene el dataset?"
   ]
  },
  {
   "cell_type": "code",
   "execution_count": null,
   "metadata": {},
   "outputs": [],
   "source": [
    "companies.select(\"country\").distinct().count()"
   ]
  },
  {
   "cell_type": "code",
   "execution_count": null,
   "metadata": {},
   "outputs": [],
   "source": [
    "companies.select(\"country\").distinct().show(n = 35)"
   ]
  },
  {
   "cell_type": "code",
   "execution_count": null,
   "metadata": {},
   "outputs": [],
   "source": [
    "# Cantidad de empresas por industria"
   ]
  },
  {
   "cell_type": "code",
   "execution_count": null,
   "metadata": {
    "scrolled": true
   },
   "outputs": [],
   "source": [
    "companies.groupBy(\"industry\").count().show()"
   ]
  },
  {
   "cell_type": "code",
   "execution_count": null,
   "metadata": {},
   "outputs": [],
   "source": [
    "# DETERMINAR LA INDUSTRIA PRINCIPAL, PARA TODOS LOS PAÍSES"
   ]
  },
  {
   "cell_type": "code",
   "execution_count": null,
   "metadata": {},
   "outputs": [],
   "source": [
    "# País con mas empresas"
   ]
  },
  {
   "cell_type": "code",
   "execution_count": null,
   "metadata": {},
   "outputs": [],
   "source": [
    "companies.groupBy(\"country\").count().show()"
   ]
  },
  {
   "cell_type": "code",
   "execution_count": null,
   "metadata": {},
   "outputs": [],
   "source": []
  }
 ],
 "metadata": {
  "kernelspec": {
   "display_name": "Python 3",
   "language": "python",
   "name": "python3"
  },
  "language_info": {
   "codemirror_mode": {
    "name": "ipython",
    "version": 3
   },
   "file_extension": ".py",
   "mimetype": "text/x-python",
   "name": "python",
   "nbconvert_exporter": "python",
   "pygments_lexer": "ipython3",
   "version": "3.7.3"
  }
 },
 "nbformat": 4,
 "nbformat_minor": 2
}
